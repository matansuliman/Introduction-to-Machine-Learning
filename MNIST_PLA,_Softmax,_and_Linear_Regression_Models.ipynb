{
  "cells": [
    {
      "cell_type": "markdown",
      "metadata": {
        "id": "view-in-github",
        "colab_type": "text"
      },
      "source": [
        "<a href=\"https://colab.research.google.com/github/matansuliman/Introduction-to-Machine-Learning/blob/main/MNIST_PLA%2C_Softmax%2C_and_Linear_Regression_Models.ipynb\" target=\"_parent\"><img src=\"https://colab.research.google.com/assets/colab-badge.svg\" alt=\"Open In Colab\"/></a>"
      ]
    },
    {
      "cell_type": "markdown",
      "metadata": {
        "id": "_ZYZ0hrIAZkY"
      },
      "source": [
        "Details:\n",
        "*   Name: Matan Suliman"
      ]
    },
    {
      "cell_type": "markdown",
      "metadata": {
        "id": "E-Q5fgcYrkji"
      },
      "source": [
        "## Overview:"
      ]
    },
    {
      "cell_type": "markdown",
      "metadata": {
        "id": "hQXHvliV-hBE"
      },
      "source": [
        "\n",
        "**This is a Multi-Class Handwritten Digit Classification using the MNIST Dataset.**\n",
        "\n",
        "\n",
        "**This notebook has 3 main parts:**\n",
        "1.   The Pocket Algorithm\n",
        "2.   Softmax Regression\n",
        "3.   Linear Regression\n",
        "\n",
        "**For each part:**\n",
        "1.   we define helper function\n",
        "2.   defining and running the algorithm\n",
        "3.   plotting the losses\n",
        "4.   making predictions\n",
        "5.   building and visualizing the confusion matrix\n",
        "6.   calculating prefermance matricies\n",
        "7.   discussing the results\n",
        "\n",
        "\n",
        "Note: Throught the code we use Vectorized Implementation with numpy library for enhanced computational efficiency and runtime."
      ]
    },
    {
      "cell_type": "markdown",
      "metadata": {
        "id": "59zVG7LBnOr9"
      },
      "source": [
        "## Initialization"
      ]
    },
    {
      "cell_type": "markdown",
      "metadata": {
        "id": "bFixdxyReq5Y"
      },
      "source": [
        "###dependencies"
      ]
    },
    {
      "cell_type": "markdown",
      "source": [
        "**Imports**"
      ],
      "metadata": {
        "id": "owtLEaB2cdze"
      }
    },
    {
      "cell_type": "code",
      "execution_count": null,
      "metadata": {
        "id": "6B4wq7REepsf"
      },
      "outputs": [],
      "source": [
        "import numpy as np\n",
        "from sklearn.model_selection import train_test_split\n",
        "from sklearn.datasets import fetch_openml\n",
        "from sklearn.preprocessing import StandardScaler\n",
        "from sklearn import metrics\n",
        "import matplotlib.pyplot as plt\n",
        "from tqdm.notebook import tqdm\n",
        "import seaborn as sns"
      ]
    },
    {
      "cell_type": "markdown",
      "metadata": {
        "id": "PZl6mh2Yey8v"
      },
      "source": [
        "**Global variables**"
      ]
    },
    {
      "cell_type": "code",
      "execution_count": null,
      "metadata": {
        "id": "43W0wD9V-4eV"
      },
      "outputs": [],
      "source": [
        "K = 10 # number of classes\n",
        "np.random.seed(42) # ensures reproducibility"
      ]
    },
    {
      "cell_type": "markdown",
      "metadata": {
        "id": "RRkuP0y5et_X"
      },
      "source": [
        "###mnist dataset\n"
      ]
    },
    {
      "cell_type": "markdown",
      "source": [
        "**Fetch**"
      ],
      "metadata": {
        "id": "eM6_ZrJDcn5V"
      }
    },
    {
      "cell_type": "code",
      "execution_count": null,
      "metadata": {
        "id": "UlmmeN99ewWO"
      },
      "outputs": [],
      "source": [
        "mnist = fetch_openml('mnist_784', version=1)"
      ]
    },
    {
      "cell_type": "code",
      "source": [
        "X, y = mnist['data'], mnist['target']"
      ],
      "metadata": {
        "id": "-saLmNZAW0Rq"
      },
      "execution_count": null,
      "outputs": []
    },
    {
      "cell_type": "markdown",
      "source": [
        "**Normalize X**"
      ],
      "metadata": {
        "id": "n_zLUZlfS4fx"
      }
    },
    {
      "cell_type": "code",
      "source": [
        "X /= 255.0 # each value is now inside [0, 1]"
      ],
      "metadata": {
        "id": "kIDxSrMVSRu4"
      },
      "execution_count": null,
      "outputs": []
    },
    {
      "cell_type": "markdown",
      "metadata": {
        "id": "pGIduvFke9n4"
      },
      "source": [
        "**Add a colmun of 1's to X**\n",
        "*  Concatenate a columns of 1's of shape (784, ) to the image matrix X of shape (10000, 784)"
      ]
    },
    {
      "cell_type": "code",
      "execution_count": null,
      "metadata": {
        "id": "wC8kOuRJe7zv"
      },
      "outputs": [],
      "source": [
        "X_with_bias = np.c_[np.ones(X.shape[0]), X]"
      ]
    },
    {
      "cell_type": "markdown",
      "metadata": {
        "id": "8Sc3pJ4ne-RW"
      },
      "source": [
        "**OneHot encoding vactor of y**\n",
        "*   Initially y is a vactor of strings, so y.astype(int) converts the vector y to a vector of ints\n",
        "*   Then we replace each element in y with the i'th row of the identity matrix (K x K)"
      ]
    },
    {
      "cell_type": "code",
      "execution_count": null,
      "metadata": {
        "id": "LZs6BmIQPt5V"
      },
      "outputs": [],
      "source": [
        "y = y.astype(int)\n",
        "y_onehot = np.eye(K)[y]"
      ]
    },
    {
      "cell_type": "markdown",
      "metadata": {
        "id": "8UeAWWe3P0UD"
      },
      "source": [
        "**Split dataset to train and test**\n",
        "*   The MNIST dataset has 70,000 images.\n",
        "*   We split it into a training set and testing set with ratio 6:1"
      ]
    },
    {
      "cell_type": "code",
      "execution_count": null,
      "metadata": {
        "id": "SiK_WlR5Pwws"
      },
      "outputs": [],
      "source": [
        "X_train, X_test, y_train_onehot, y_test_onehot = train_test_split(X_with_bias, y_onehot, test_size= 1/7, random_state= 42)"
      ]
    },
    {
      "cell_type": "markdown",
      "metadata": {
        "id": "D1efWFWQnITF"
      },
      "source": [
        "##Part A: The Pocket Algorithm"
      ]
    },
    {
      "cell_type": "markdown",
      "metadata": {
        "id": "onGbUtGDQux-"
      },
      "source": [
        "###Define helper function:"
      ]
    },
    {
      "cell_type": "markdown",
      "metadata": {
        "id": "Dr4qRV3ncPc_"
      },
      "source": [
        "The hypothesis function"
      ]
    },
    {
      "cell_type": "code",
      "execution_count": null,
      "metadata": {
        "id": "oGL7EI5ncKf-"
      },
      "outputs": [],
      "source": [
        "def h(w, X):\n",
        "  \"\"\"\n",
        "  The hypothesis function\n",
        "  params:\n",
        "    w: weight vector\n",
        "    X: input matrix\n",
        "  returns:\n",
        "    a vector of the sign of the dot products of X and w\n",
        "  \"\"\"\n",
        "  return np.sign(X @ w)"
      ]
    },
    {
      "cell_type": "markdown",
      "metadata": {
        "id": "sx5OF3H3cTW3"
      },
      "source": [
        "The perceptron learning algorithm (PLA)"
      ]
    },
    {
      "cell_type": "code",
      "execution_count": null,
      "metadata": {
        "id": "SW863VficMH2"
      },
      "outputs": [],
      "source": [
        "def PLA(w, X, y, iterations=1000, initial_lr = 0.1, decay_rate= 0.94):\n",
        "  \"\"\"\n",
        "  Perceptron Learning Algorithm (PLA)\n",
        "  params:\n",
        "    w: weight vector\n",
        "    X: input matrix\n",
        "    y: lables vector\n",
        "    iterations: number of iterations to perform\n",
        "    initial_lr: initial learning rate\n",
        "    decay_rate: learning rate decay rate\n",
        "  returns:\n",
        "    w_best: weight vector after max_iterations\n",
        "  \"\"\"\n",
        "  lr = initial_lr\n",
        "  w_best = w.copy()\n",
        "\n",
        "  for _ in range(iterations):\n",
        "\n",
        "    predictions = h(w, X)\n",
        "    errors = predictions != y # a boolean array\n",
        "\n",
        "    # np.where return the indices where the the bolean array is true\n",
        "    misclassified_indices = np.where(errors)[0]\n",
        "\n",
        "    if len(misclassified_indices) == 0: return False\n",
        "\n",
        "    # pick a random misclassified sample\n",
        "    rand_idx = np.random.choice(misclassified_indices)\n",
        "\n",
        "    # update rule\n",
        "    w_best += lr * y[rand_idx] * X[rand_idx]\n",
        "\n",
        "    lr *= decay_rate # update learning rate\n",
        "\n",
        "  return w_best"
      ]
    },
    {
      "cell_type": "markdown",
      "metadata": {
        "id": "b87fQofWcZCm"
      },
      "source": [
        "E(w, X, y): The Error of weight vector (w) on input (X) and lables (y)"
      ]
    },
    {
      "cell_type": "code",
      "execution_count": null,
      "metadata": {
        "id": "A1Obk8eCXTLO"
      },
      "outputs": [],
      "source": [
        "def E(w, X, y):\n",
        "  \"\"\"\n",
        "  Error of weight vector (w) on input (X) and lables (y)\n",
        "  params:\n",
        "    w: weight vector\n",
        "    X: input matrix\n",
        "    y: lables vector\n",
        "  returns:\n",
        "    the mean of the sign of the dot products of X and w where the result is not equal to y\n",
        "  \"\"\"\n",
        "  predictions = h(w, X)\n",
        "  errors = predictions != y\n",
        "  N = X.shape[0]\n",
        "\n",
        "  return np.sum(errors) / N # mean"
      ]
    },
    {
      "cell_type": "markdown",
      "metadata": {
        "id": "ylV_TMD52qhz"
      },
      "source": [
        "###The Pocket Algorithm"
      ]
    },
    {
      "cell_type": "code",
      "execution_count": null,
      "metadata": {
        "id": "jdq85m8DGbFG"
      },
      "outputs": [],
      "source": [
        "def pocket_algorithm(W, X_train, X_test, y_train_onehot, y_test_onehot, epochs=100, initial_lr= 0.01, decay_rate= 0.94):\n",
        "  \"\"\"\n",
        "  Pocket Algorithm for multi-class classification\n",
        "  params:\n",
        "    W: weight matrix of shape (K, d+1), weight vectors as rows\n",
        "    X_train: input matrix of shape (N, d+1)\n",
        "    X_test: input matrix of shape (N, d+1)\n",
        "    y_train_onehot: lables matrix of shape (N, K)\n",
        "    y_test_onehot: lables matrix of shape (N, K)\n",
        "    epochs: number of epochs to perform\n",
        "    initial_lr: initial learning rate\n",
        "    decay_rate: learning rate decay rate\n",
        "  returns:\n",
        "    training_losses: list of lists, each list contains the training loss for each class\n",
        "    test_losses: list of lists, each list contains the test loss for each class\n",
        "  \"\"\"\n",
        "  training_losses = [list() for i in range(K)]\n",
        "  test_losses = [list() for i in range(K)]\n",
        "\n",
        "  for i in tqdm(range(K), desc='Outer'): # for each Class\n",
        "\n",
        "    # y_train_i and y_test_i is the current y labels for the i'th class\n",
        "    # if the one_hot vector is from the i'th class put label 1\n",
        "    # for all oher case put label -1\n",
        "    \"\"\"y_train = 2 * y_train_onehot[:, i] - 1\n",
        "    y_test = 2 * y_test_onehot[:, i] - 1\"\"\"\n",
        "\n",
        "    y_train = np.where(y_train_onehot[:, i] == 1, 1, -1)\n",
        "    y_test = np.where(y_test_onehot[:, i] == 1, 1, -1)\n",
        "\n",
        "    lr = initial_lr # init lr to calss\n",
        "\n",
        "    min_error = E(W[i], X_train, y_train)\n",
        "    print(f\"\\nClass {i} strting min error {round(min_error *100, 2)} % :\", end= \"\")\n",
        "\n",
        "    for t in tqdm(range(epochs +1), desc='Inner', leave=False):\n",
        "\n",
        "      if t %10 == 0:\n",
        "        training_losses[i].append(min_error)\n",
        "        test_losses[i].append(E(W[i], X_test, y_test))\n",
        "        print(f\" curr min: {round(min_error *100, 2)} %\")\n",
        "\n",
        "      w_next = PLA(W[i], X_train, y_train, iterations=1, initial_lr= lr) # run PLA for 1 iteration\n",
        "      if w_next is False: break # breaks inner loop if no more misclassified samples\n",
        "      current_error = E(w_next, X_train, y_train)\n",
        "\n",
        "      # update current_error and W[i] if found a better weight vector\n",
        "      if current_error < min_error:\n",
        "        W[i] = w_next.copy()\n",
        "        min_error = current_error\n",
        "        lr *= decay_rate # update learning rate\n",
        "\n",
        "  return training_losses, test_losses"
      ]
    },
    {
      "cell_type": "markdown",
      "metadata": {
        "id": "udlzgt2GdL1B"
      },
      "source": [
        "**Run the Pocket Algorithm**\n",
        "*   init w to be close to 0.\n",
        "*   Epochs = 100. tested numbers between 50 and 200. 50 was insufficient, 200 was taking too long.\n",
        "*   Initial learning rate = 0.05. tested numbers between 0.001 and 1. values close to 0.001 wasnt converging fast enough even with high number of epochs and values close to 1 was oscillating even with low decay rate.\n",
        "*   Decay rate = 0.94. tested numbers between 0.90 and 1. values close to 0.90 get too low after 50 iterations and values close to 1 wasnt reducing the learning rate fast enough.\n",
        "*   Note: the numbers chosen for these three hyperparameters are connected to each other at some level.\n",
        "*   Insight: lower/raise the number of epochs <=> raise/lower the learning rate\n",
        " <=> lower/raise the decay rate."
      ]
    },
    {
      "cell_type": "code",
      "execution_count": null,
      "metadata": {
        "colab": {
          "base_uri": "https://localhost:8080/",
          "height": 1000,
          "referenced_widgets": [
            "f1fa13f62fbf4fa688f0e935f4f69974",
            "1f66b9bb93f14790afe750bfc0431625",
            "365528f3eff14745bd01877824db1b6a",
            "a643bc32083a40729467c9ead7fa44f8",
            "50388700d3394c5a934fd738071cc68a",
            "d389a318687d41a7bb9467feb00c4d3b",
            "698a1f65ab2e42fa998de30d0c198227",
            "7a0a31ac61404047a908a80b8dc40e50",
            "f522f5bc7630434fbc3452b8013dcf76",
            "2d0215ff1e7c4d9e9dcf7c75b4f16411",
            "ef1763f3a9d24448a40318925dcf2a37",
            "11a60d338d83473f96812bd12f6f2f0f",
            "9d64f08cf4c34bc58b30e869c4450656",
            "e84e55b90a724802a1ffa52037313296",
            "29118b5fd1d841958ad7f608e5f5006c",
            "5dd6c0c53b95471fb17866e1702b942c",
            "78f099f01aa1445988b072a5652a07ac",
            "ac4dae5181834ce782f71b0f853c85a5",
            "9ddda92dc68f4b8b8797744b0cffb836",
            "47699316ed834672a3ce3158aaa54ff2",
            "c4ac119a9a0f44ce9b1351b139480439",
            "0f1e33e461bb4120a879c6026318fd7c",
            "410b2fcfd73a49619a23845a2c2fb8d4",
            "dbe43e96d8174449ae9628fb7cdf5ef7",
            "c922fa943d014b84b2c3b283d7c22a33",
            "a550a0cfffbb43099d0d65a1c85f8ac3",
            "0142a153536c41eaaa390f74e93e1190",
            "3182fde0ddfa4c85ad2c3d7b3366f450",
            "a02f14d24f1e4882b10b685c0c2fafe3",
            "1d4313dc9274491ca6efb0469e9cfaee",
            "ce39c5a082f14847ba3ec71ec6d4abda",
            "a5135ee762fd455283f62929044e12ee",
            "a7cd44497ad74a2ea16ff92003ab6597",
            "72eb5fe81fc14f2c8c4618e0e055c6cf",
            "c989897bd9914beda3f27209214eef69",
            "c2a76d013efe4129a8fc3f82b2644e81",
            "5755c2e74dd940f8a8bfa5bf9af9497b",
            "86108a35262e46bf9896871ac1d31479",
            "3c3ad0e219304067b25d1af4b2f7b8a8",
            "5dd5177a62b54c6baf2a252dc294da30",
            "7d817a1ae49443a2bb53a60733d91aa7",
            "4ecfdb4d2c0044489014952b56acfe6d",
            "25148cf063684296a1443c777fd1fc28",
            "acf5fefa13374714b955657f7956a92e",
            "64bd3fe4cf4f43aa9d7f8cacb393a502",
            "d449e5317ac74054bd90554ffe54b99d",
            "4b9aae9bec954cc69933fbf36e352c2a",
            "27e9b11f2e5e40dfaeb949733c8af843",
            "132ffbea469f44d08894f5c43262ed44",
            "0ab9d740f40d49b5839a217212389e06",
            "d6f694dff028467ea312ef65652ed857",
            "3855704ca9e0433abedf737e721a07fc",
            "d884dbb68d9e4ed5ac638d093fcb7875",
            "2b382b405c234f789b8159c088193c97",
            "65f1563f3c1c47a69b3d79b76bb93d4c",
            "5cc8f419cee84fa7b461b618bbcecc61",
            "552404f44fe54de791d8b7278d641297",
            "e7972c0c1f07420cb3c4e1fbbceab30b",
            "aa5026c6ff754964ab14f1a7a2d06205",
            "ca34c2cfeba8406eaad10e79d35aec2b",
            "f73c1a85133e4c108abfb719138b7f58",
            "c4c9dfb8eb83491a8ce867f9bea2a279",
            "3dd02718c9354b1c83ef5d7a88ebb520",
            "4e240c8501d44bac903e18c5c7f66613",
            "21f4f31fa04e4ebfbd20b9af4ae5dedf",
            "0b8416dee3254d18af3c8a121b596040",
            "696de6ba637c4002b3ca957f48674881",
            "a043e892caa64576aeacabda55b5a6e5",
            "feb7917b5eac4c06b911f0a44117edcf",
            "a2a152b953a545759b0d35d2a860cdcd",
            "48129581af8c4a5b8c0a6d229d7d7474",
            "30bc50a521a7416fb6d0e1af7b6f42f7",
            "87f1fda3af4342cab87aa36098176248",
            "52957c36bf0845c7b07dc8ac0c98c8ed",
            "811e81f8a21446b5b4318d81c86b2223",
            "8c4d1743a9dd41b79938f8f5a36e5b4a",
            "34f8211d51044e24a359aba1e14f8cbd",
            "4bf5a18fa4674321ac52ffbf5632f878",
            "fae8101f67a14c2aaf2131b04126ff8c",
            "aaefc3bd72c945d5909b02356d343744",
            "d6ff516306ea4d4f8b7e8ab8fe5e72d6",
            "260752e4164046eba154f538105e5bb9",
            "f9b0a50dcd5d4dfabd22a4492659f170",
            "ac1c22b2806548a790206da78da784bd",
            "11904731a30d4119915eb7efe877989b",
            "e118f1faf28a4b29a6a22774d2d2cc9e",
            "93fdfa6f925e4d029f9c10ed12ed05ce",
            "472774ddb5ee4806bd05ed38ad249856",
            "de69e68ab8c443f19ceea186273ec9a4",
            "410bba75eeab4e26a0fe94d3bc9e628d",
            "34ef72a7a62e407399c5b149482784e2",
            "99983dcf1ca8421d8ae986d3fcae1cd8",
            "fb1c66bd60774b299a4b258f6ceeab21",
            "fc29fb5d493d4e70ba21b1ac1da202f5",
            "df4882c1d16a49e2bb111af61ad46251",
            "34e558b9609844df88cb4c274090bda4",
            "031918238e464b6ea266ec246d4b21fc",
            "0b23252990d54d80a7329846c9a86745",
            "d1cf41f7624b432fa2e5322a11c3ddbc",
            "855248510dc04533818adb2cb076f29a",
            "91562dcdd390496b80202661519b5445",
            "df3fb18364b24b688f3b1f7628484cfc",
            "a5c95d2aa90b49dc9966880bf7b0e6b4",
            "aa790ffc0f594e3aa914455c46df316e",
            "2615c35fa23745f182b2e2a291124cdd",
            "36c993cfe60c4ded908feaaef1fc860b",
            "7e7117b56497424ca6fc63d632acfb54",
            "e3cb423dc86d460baaa854189ea322a8",
            "ac0dceef7bca411b87d53eeccda42b13",
            "e3bd084acb6141ccb37700ba867b76fc",
            "dfbe24a5ef3e4d4487e42ac1e7e6942e",
            "a06452b774a44a9fae87b123d9a4f181",
            "2c98d05bb9de4e2ba0961ea7ae8ebb39",
            "5bdad1292a0e4f3e8b57069e40e932e7",
            "e6da801c7f98415fb8b4f342becf86b5",
            "b6e7dee66e9c435b97a5e85fdc40a170",
            "8bcf31ad203844898026749e564bfe77",
            "1630e35f5bf348bdac51bbc124411c8f",
            "6496095924a343dcbcfecb9c64287b6c",
            "a88e234791a64339b985a351f75504c0",
            "5b9a6ed26932455f8851c30ec745a1a5"
          ]
        },
        "id": "CbFnMPOf-gvV",
        "outputId": "3736cb6c-6c6e-49d7-b8e7-137cf20b4900"
      },
      "outputs": [
        {
          "output_type": "display_data",
          "data": {
            "text/plain": [
              "Outer:   0%|          | 0/10 [00:00<?, ?it/s]"
            ],
            "application/vnd.jupyter.widget-view+json": {
              "version_major": 2,
              "version_minor": 0,
              "model_id": "f1fa13f62fbf4fa688f0e935f4f69974"
            }
          },
          "metadata": {}
        },
        {
          "output_type": "stream",
          "name": "stdout",
          "text": [
            "\n",
            "Class 0 strting min error 52.14 % :"
          ]
        },
        {
          "output_type": "display_data",
          "data": {
            "text/plain": [
              "Inner:   0%|          | 0/101 [00:00<?, ?it/s]"
            ],
            "application/vnd.jupyter.widget-view+json": {
              "version_major": 2,
              "version_minor": 0,
              "model_id": "11a60d338d83473f96812bd12f6f2f0f"
            }
          },
          "metadata": {}
        },
        {
          "output_type": "stream",
          "name": "stdout",
          "text": [
            " curr min: 52.14 %\n",
            " curr min: 21.3 %\n",
            " curr min: 13.17 %\n",
            " curr min: 11.83 %\n",
            " curr min: 11.6 %\n",
            " curr min: 11.12 %\n",
            " curr min: 10.79 %\n",
            " curr min: 10.79 %\n",
            " curr min: 10.6 %\n",
            " curr min: 10.6 %\n",
            " curr min: 10.6 %\n",
            "\n",
            "Class 1 strting min error 88.44 % :"
          ]
        },
        {
          "output_type": "display_data",
          "data": {
            "text/plain": [
              "Inner:   0%|          | 0/101 [00:00<?, ?it/s]"
            ],
            "application/vnd.jupyter.widget-view+json": {
              "version_major": 2,
              "version_minor": 0,
              "model_id": "410b2fcfd73a49619a23845a2c2fb8d4"
            }
          },
          "metadata": {}
        },
        {
          "output_type": "stream",
          "name": "stdout",
          "text": [
            " curr min: 88.44 %\n",
            " curr min: 60.48 %\n",
            " curr min: 24.62 %\n",
            " curr min: 19.16 %\n",
            " curr min: 17.96 %\n",
            " curr min: 16.98 %\n",
            " curr min: 16.57 %\n",
            " curr min: 15.73 %\n",
            " curr min: 15.16 %\n",
            " curr min: 14.7 %\n",
            " curr min: 14.43 %\n",
            "\n",
            "Class 2 strting min error 22.72 % :"
          ]
        },
        {
          "output_type": "display_data",
          "data": {
            "text/plain": [
              "Inner:   0%|          | 0/101 [00:00<?, ?it/s]"
            ],
            "application/vnd.jupyter.widget-view+json": {
              "version_major": 2,
              "version_minor": 0,
              "model_id": "72eb5fe81fc14f2c8c4618e0e055c6cf"
            }
          },
          "metadata": {}
        },
        {
          "output_type": "stream",
          "name": "stdout",
          "text": [
            " curr min: 22.72 %\n",
            " curr min: 13.39 %\n",
            " curr min: 11.31 %\n",
            " curr min: 10.4 %\n",
            " curr min: 10.4 %\n",
            " curr min: 10.4 %\n",
            " curr min: 10.26 %\n",
            " curr min: 10.26 %\n",
            " curr min: 10.23 %\n",
            " curr min: 10.23 %\n",
            " curr min: 10.23 %\n",
            "\n",
            "Class 3 strting min error 47.13 % :"
          ]
        },
        {
          "output_type": "display_data",
          "data": {
            "text/plain": [
              "Inner:   0%|          | 0/101 [00:00<?, ?it/s]"
            ],
            "application/vnd.jupyter.widget-view+json": {
              "version_major": 2,
              "version_minor": 0,
              "model_id": "64bd3fe4cf4f43aa9d7f8cacb393a502"
            }
          },
          "metadata": {}
        },
        {
          "output_type": "stream",
          "name": "stdout",
          "text": [
            " curr min: 47.13 %\n",
            " curr min: 15.76 %\n",
            " curr min: 12.46 %\n",
            " curr min: 11.58 %\n",
            " curr min: 10.92 %\n",
            " curr min: 10.59 %\n",
            " curr min: 10.47 %\n",
            " curr min: 10.47 %\n",
            " curr min: 10.47 %\n",
            " curr min: 10.47 %\n",
            " curr min: 10.4 %\n",
            "\n",
            "Class 4 strting min error 66.19 % :"
          ]
        },
        {
          "output_type": "display_data",
          "data": {
            "text/plain": [
              "Inner:   0%|          | 0/101 [00:00<?, ?it/s]"
            ],
            "application/vnd.jupyter.widget-view+json": {
              "version_major": 2,
              "version_minor": 0,
              "model_id": "5cc8f419cee84fa7b461b618bbcecc61"
            }
          },
          "metadata": {}
        },
        {
          "output_type": "stream",
          "name": "stdout",
          "text": [
            " curr min: 66.19 %\n",
            " curr min: 23.72 %\n",
            " curr min: 15.19 %\n",
            " curr min: 13.57 %\n",
            " curr min: 12.39 %\n",
            " curr min: 11.64 %\n",
            " curr min: 11.39 %\n",
            " curr min: 11.0 %\n",
            " curr min: 10.93 %\n",
            " curr min: 10.82 %\n",
            " curr min: 10.74 %\n",
            "\n",
            "Class 5 strting min error 29.82 % :"
          ]
        },
        {
          "output_type": "display_data",
          "data": {
            "text/plain": [
              "Inner:   0%|          | 0/101 [00:00<?, ?it/s]"
            ],
            "application/vnd.jupyter.widget-view+json": {
              "version_major": 2,
              "version_minor": 0,
              "model_id": "696de6ba637c4002b3ca957f48674881"
            }
          },
          "metadata": {}
        },
        {
          "output_type": "stream",
          "name": "stdout",
          "text": [
            " curr min: 29.82 %\n",
            " curr min: 14.56 %\n",
            " curr min: 10.48 %\n",
            " curr min: 9.51 %\n",
            " curr min: 9.26 %\n",
            " curr min: 9.13 %\n",
            " curr min: 9.13 %\n",
            " curr min: 9.13 %\n",
            " curr min: 9.13 %\n",
            " curr min: 9.06 %\n",
            " curr min: 9.06 %\n",
            "\n",
            "Class 6 strting min error 42.32 % :"
          ]
        },
        {
          "output_type": "display_data",
          "data": {
            "text/plain": [
              "Inner:   0%|          | 0/101 [00:00<?, ?it/s]"
            ],
            "application/vnd.jupyter.widget-view+json": {
              "version_major": 2,
              "version_minor": 0,
              "model_id": "4bf5a18fa4674321ac52ffbf5632f878"
            }
          },
          "metadata": {}
        },
        {
          "output_type": "stream",
          "name": "stdout",
          "text": [
            " curr min: 42.32 %\n",
            " curr min: 15.15 %\n",
            " curr min: 12.09 %\n",
            " curr min: 11.3 %\n",
            " curr min: 10.86 %\n",
            " curr min: 10.49 %\n",
            " curr min: 10.49 %\n",
            " curr min: 10.49 %\n",
            " curr min: 10.38 %\n",
            " curr min: 10.28 %\n",
            " curr min: 10.28 %\n",
            "\n",
            "Class 7 strting min error 38.67 % :"
          ]
        },
        {
          "output_type": "display_data",
          "data": {
            "text/plain": [
              "Inner:   0%|          | 0/101 [00:00<?, ?it/s]"
            ],
            "application/vnd.jupyter.widget-view+json": {
              "version_major": 2,
              "version_minor": 0,
              "model_id": "de69e68ab8c443f19ceea186273ec9a4"
            }
          },
          "metadata": {}
        },
        {
          "output_type": "stream",
          "name": "stdout",
          "text": [
            " curr min: 38.67 %\n",
            " curr min: 14.46 %\n",
            " curr min: 11.33 %\n",
            " curr min: 11.33 %\n",
            " curr min: 11.0 %\n",
            " curr min: 10.89 %\n",
            " curr min: 10.89 %\n",
            " curr min: 10.89 %\n",
            " curr min: 10.66 %\n",
            " curr min: 10.62 %\n",
            " curr min: 10.62 %\n",
            "\n",
            "Class 8 strting min error 15.34 % :"
          ]
        },
        {
          "output_type": "display_data",
          "data": {
            "text/plain": [
              "Inner:   0%|          | 0/101 [00:00<?, ?it/s]"
            ],
            "application/vnd.jupyter.widget-view+json": {
              "version_major": 2,
              "version_minor": 0,
              "model_id": "855248510dc04533818adb2cb076f29a"
            }
          },
          "metadata": {}
        },
        {
          "output_type": "stream",
          "name": "stdout",
          "text": [
            " curr min: 15.34 %\n",
            " curr min: 10.97 %\n",
            " curr min: 10.39 %\n",
            " curr min: 10.05 %\n",
            " curr min: 10.05 %\n",
            " curr min: 10.05 %\n",
            " curr min: 9.98 %\n",
            " curr min: 9.98 %\n",
            " curr min: 9.98 %\n",
            " curr min: 9.98 %\n",
            " curr min: 9.98 %\n",
            "\n",
            "Class 9 strting min error 51.67 % :"
          ]
        },
        {
          "output_type": "display_data",
          "data": {
            "text/plain": [
              "Inner:   0%|          | 0/101 [00:00<?, ?it/s]"
            ],
            "application/vnd.jupyter.widget-view+json": {
              "version_major": 2,
              "version_minor": 0,
              "model_id": "dfbe24a5ef3e4d4487e42ac1e7e6942e"
            }
          },
          "metadata": {}
        },
        {
          "output_type": "stream",
          "name": "stdout",
          "text": [
            " curr min: 51.67 %\n",
            " curr min: 21.81 %\n",
            " curr min: 13.58 %\n",
            " curr min: 10.99 %\n",
            " curr min: 10.83 %\n",
            " curr min: 10.48 %\n",
            " curr min: 10.48 %\n",
            " curr min: 10.48 %\n",
            " curr min: 10.33 %\n",
            " curr min: 10.33 %\n",
            " curr min: 10.33 %\n"
          ]
        }
      ],
      "source": [
        "W = np.random.normal(loc= 0, scale= 1, size=(K, X_train.shape[1])) # init the w vector of each class to random values\n",
        "training_losses, test_losses = pocket_algorithm(W, X_train, X_test, y_train_onehot, y_test_onehot, epochs=100, initial_lr = 0.05, decay_rate= 0.94)"
      ]
    },
    {
      "cell_type": "markdown",
      "metadata": {
        "id": "FRbneTxCdzJq"
      },
      "source": [
        "###Plot Losses"
      ]
    },
    {
      "cell_type": "code",
      "execution_count": null,
      "metadata": {
        "id": "kj5PME0FR7J5"
      },
      "outputs": [],
      "source": [
        "def plot_losses(training_losses, test_losses):\n",
        "  \"\"\"\n",
        "  Plot the training and test losses\n",
        "  params:\n",
        "    training_losses: contains the training loss\n",
        "    test_losses:contains the test loss\n",
        "  returns:\n",
        "    None\n",
        "  \"\"\"\n",
        "  if type(training_losses) == np.ndarray:\n",
        "    training_losses = training_losses.tolist()\n",
        "    test_losses = test_losses.tolist()\n",
        "\n",
        "  plt.figure(figsize=(15, 5))\n",
        "  iteration_indices = list(range(0, len(training_losses))) # x axis\n",
        "  plt.plot(iteration_indices, training_losses, label= \"traning_losses\")\n",
        "  plt.plot(iteration_indices, test_losses, label= \"test_losses\", linestyle= '--')\n",
        "\n",
        "  plt.xticks(np.arange(min(iteration_indices), max(iteration_indices) +1, 2))\n",
        "  plt.ylim(bottom= 0)\n",
        "  plt.xlabel(\"Iteration Index\")\n",
        "  plt.ylabel(\"Loss\")\n",
        "  plt.title(\"Train and Test Losses as a Function of Iteration\", fontsize= 14)\n",
        "  plt.legend(fontsize= 12)\n",
        "  plt.grid(alpha= 0.5)\n",
        "  plt.show()"
      ]
    },
    {
      "cell_type": "markdown",
      "metadata": {
        "id": "i1YkPU6jd5Hy"
      },
      "source": [
        "**Plot the avarage loss over the train and test data**"
      ]
    },
    {
      "cell_type": "code",
      "execution_count": null,
      "metadata": {
        "colab": {
          "base_uri": "https://localhost:8080/",
          "height": 488
        },
        "id": "uBxwFW4kE2i9",
        "outputId": "03a51ff0-b4e9-4a10-f10f-51a284b35463"
      },
      "outputs": [
        {
          "output_type": "display_data",
          "data": {
            "text/plain": [
              "<Figure size 1500x500 with 1 Axes>"
            ],
            "image/png": "[encoded data removed]"
          },
          "metadata": {}
        }
      ],
      "source": [
        "plot_losses(np.mean(training_losses, axis=0), np.mean(test_losses, axis=0))"
      ]
    },
    {
      "cell_type": "markdown",
      "metadata": {
        "id": "9kD-M-jfcx-P"
      },
      "source": [
        "###Predict"
      ]
    },
    {
      "cell_type": "markdown",
      "metadata": {
        "id": "HqPI2IVZevO6"
      },
      "source": [
        "**Define prediction function for Multiclass prediction**"
      ]
    },
    {
      "cell_type": "code",
      "execution_count": null,
      "metadata": {
        "id": "54BjSSydea1J"
      },
      "outputs": [],
      "source": [
        "def predict(W, X):\n",
        "  \"\"\"\n",
        "  Predict the class of each sample in X using the weight matrix W\n",
        "  params:\n",
        "    W: numpy array of shape (K, d+1), weight vectors as rows\n",
        "    X: numpy array of shape (N, d+1), images matrix\n",
        "    returns:\n",
        "    y_pred: numpy array of shape (N,), predicted labels\n",
        "  \"\"\"\n",
        "  predictions = X @ W.T\n",
        "  y_pred = np.argmax(predictions, axis=1)\n",
        "  return y_pred"
      ]
    },
    {
      "cell_type": "markdown",
      "metadata": {
        "id": "PAjj_QRH2_ed"
      },
      "source": [
        "**Make predictions**"
      ]
    },
    {
      "cell_type": "code",
      "execution_count": null,
      "metadata": {
        "id": "UjCOGmv33BL9"
      },
      "outputs": [],
      "source": [
        "y_pred = predict(W, X_test)\n",
        "y_test = np.argmax(y_test_onehot, axis=1)"
      ]
    },
    {
      "cell_type": "markdown",
      "metadata": {
        "id": "ZpZlryfVGOpI"
      },
      "source": [
        "###The Confusion Matrix\n"
      ]
    },
    {
      "cell_type": "markdown",
      "metadata": {
        "id": "sK4W2GrGdXof"
      },
      "source": [
        "note: np.add.at: adds 1 in the confusion matrixs at the indces (predictions, actual), meaning the pairs (predictions[i], actual[i]) for i in range(len(actual))"
      ]
    },
    {
      "cell_type": "code",
      "execution_count": null,
      "metadata": {
        "id": "JtPKEUdwGRvu"
      },
      "outputs": [],
      "source": [
        "def Build_and_Display_CM(y_pred, y_test):\n",
        "  \"\"\"\n",
        "  Build the confusion matrix\n",
        "  params:\n",
        "    y_pred: numpy array of shape (N,), predicted labels\n",
        "    y_test_i: numpy array of shape (N,), actual labels\n",
        "  \"\"\"\n",
        "  confusion_matrix = np.zeros(shape= (K, K), dtype= int)\n",
        "\n",
        "  # Populate the confusion matrix using vectorized indexing\n",
        "  np.add.at(confusion_matrix, (y_pred, y_test), 1)\n",
        "\n",
        "  fig, axes = plt.subplots(1, K, figsize= (15, 3))  # Adjust figsize for better layout\n",
        "  fig.suptitle(\"Confusion Matrices for Each Digit\", fontsize= 16)\n",
        "\n",
        "  # consructe and plot a confusion matrix for each digit\n",
        "  for i in range(K):\n",
        "      TP = confusion_matrix[i, i]\n",
        "      FP = np.sum(confusion_matrix[:, i]) - TP\n",
        "      FN = np.sum(confusion_matrix[i, :]) - TP\n",
        "      TN = np.sum(confusion_matrix) - (TP + FP + FN)\n",
        "      confusion_matrix_i = np.array([[TP, FP], [FN, TN]])\n",
        "\n",
        "      # Create a subplot for each digit\n",
        "      cm_display = metrics.ConfusionMatrixDisplay(confusion_matrix= confusion_matrix_i, display_labels= [\"P\", \"N\"])\n",
        "      cm_display.plot(ax= axes[i], colorbar= False)\n",
        "      axes[i].set_title(f\"Digit {i}\", fontsize= 10)\n",
        "\n",
        "  plt.tight_layout(rect= [0, 0, 1, 1])  # Adjust layout to fit the title\n",
        "  plt.show()\n",
        "\n",
        "  return confusion_matrix"
      ]
    },
    {
      "cell_type": "code",
      "execution_count": null,
      "metadata": {
        "colab": {
          "base_uri": "https://localhost:8080/",
          "height": 288
        },
        "id": "rYOkkOvVdh5J",
        "outputId": "bd98ef99-c4a2-44a1-e7a2-87cd250d2e11"
      },
      "outputs": [
        {
          "output_type": "display_data",
          "data": {
            "text/plain": [
              "<Figure size 1500x300 with 10 Axes>"
            ],
            "image/png": "[encoded data removed]"
          },
          "metadata": {}
        }
      ],
      "source": [
        "confusion_matrix = Build_and_Display_CM(y_pred, y_test)"
      ]
    },
    {
      "cell_type": "markdown",
      "metadata": {
        "id": "ly5tQL4LiXmt"
      },
      "source": [
        "###Performance Matrices"
      ]
    },
    {
      "cell_type": "code",
      "execution_count": null,
      "metadata": {
        "id": "YS-CmrMosa-e"
      },
      "outputs": [],
      "source": [
        "def Display_matrices(confusion_matrix):\n",
        "  \"\"\"\n",
        "  Display the performance matrices\n",
        "  params:\n",
        "    confusion_matrix: numpy array of shape (K, K)\n",
        "  \"\"\"\n",
        "  print('Class |  TP  |  FP  |  FN  |   TN  | Accuracy | Precision | Recall | F1 score')\n",
        "  sumACC, sumTPR, sumTNR, sumF1 = 0, 0, 0, 0\n",
        "  for k in range(K):\n",
        "    TP = confusion_matrix[k, k]\n",
        "    FP = np.sum(confusion_matrix[:, k]) - TP\n",
        "    FN = np.sum(confusion_matrix[k, :]) - TP\n",
        "    TN = np.sum(confusion_matrix) - (TP + FP + FN)\n",
        "    ACC = (TP + TN) / (TP + TN + FP + FN) if (TP + TN + FP + FN) != 0 else 0\n",
        "    TPR = (TP) / (TP + FN) if (TP + FN) != 0 else 0\n",
        "    TNR = (TN) / (TN + FP) if (TN + FP) != 0 else 0\n",
        "    F1score = 2 * (TPR * ACC) / (TPR + ACC) if (TPR + ACC) != 0 else 0\n",
        "    sumACC += ACC\n",
        "    sumTPR += TPR\n",
        "    sumTNR += TNR\n",
        "    sumF1 += F1score\n",
        "    print(f'{k:4}  | {TP:4} | {FP:4} | {FN:4} | {TN:4} | {ACC:8.3f} | {TPR:9.2f} | {TNR:6.2f} | {F1score:6.2f}')\n",
        "  print(f'mean Accuracy:  {sumACC /K :.3f}')\n",
        "  print(f'mean Precision: {sumTPR /K :.3f}')\n",
        "  print(f'mean Recall:    {sumTNR /K :.3f}')\n",
        "  print(f'mean F1 score:  {sumF1 /K :.3f}')"
      ]
    },
    {
      "cell_type": "code",
      "execution_count": null,
      "metadata": {
        "colab": {
          "base_uri": "https://localhost:8080/"
        },
        "id": "ALENF-fNf2nU",
        "outputId": "2b747bb2-675e-4611-dddc-54c09b8fb516"
      },
      "outputs": [
        {
          "output_type": "stream",
          "name": "stdout",
          "text": [
            "Class |  TP  |  FP  |  FN  |   TN  | Accuracy | Precision | Recall | F1 score\n",
            "   0  |   21 |  962 | 1090 | 7927 |    0.795 |      0.02 |   0.89 |   0.04\n",
            "   1  |  599 |  553 | 3349 | 5499 |    0.610 |      0.15 |   0.91 |   0.24\n",
            "   2  |   43 |  924 |  456 | 8577 |    0.862 |      0.09 |   0.90 |   0.16\n",
            "   3  |   74 |  960 |  548 | 8418 |    0.849 |      0.12 |   0.90 |   0.21\n",
            "   4  |  148 |  758 |  715 | 8379 |    0.853 |      0.17 |   0.92 |   0.29\n",
            "   5  |  129 |  808 |  736 | 8327 |    0.846 |      0.15 |   0.91 |   0.25\n",
            "   6  |   47 |  914 |  420 | 8619 |    0.867 |      0.10 |   0.90 |   0.18\n",
            "   7  |   22 | 1033 |  568 | 8377 |    0.840 |      0.04 |   0.89 |   0.07\n",
            "   8  |   16 |  953 |  271 | 8760 |    0.878 |      0.06 |   0.90 |   0.10\n",
            "   9  |   44 |  992 |  704 | 8260 |    0.830 |      0.06 |   0.89 |   0.11\n",
            "mean Accuracy:  0.823\n",
            "mean Precision: 0.095\n",
            "mean Recall:    0.902\n",
            "mean F1 score:  0.165\n"
          ]
        }
      ],
      "source": [
        "Display_matrices(confusion_matrix)"
      ]
    },
    {
      "cell_type": "markdown",
      "source": [
        "###Discussion:"
      ],
      "metadata": {
        "id": "Y12wKyapilgS"
      }
    },
    {
      "cell_type": "markdown",
      "source": [
        "Note: High precision is achieved by having few false positives in the returned results, and high recall is achieved by having few false negatives in the relevant results."
      ],
      "metadata": {
        "id": "upTgKin5i07a"
      }
    },
    {
      "cell_type": "markdown",
      "source": [
        "**Accuracy** across digits ranges from 61.0% to 87.8%, showing good ability to distinguish between digits."
      ],
      "metadata": {
        "id": "7IzuLCRYlO1k"
      }
    },
    {
      "cell_type": "markdown",
      "source": [
        "**Precision** is 9%, indicating a difficulty in avoiding false positives."
      ],
      "metadata": {
        "id": "GMnBiuemk4JK"
      }
    },
    {
      "cell_type": "markdown",
      "source": [
        "**Recall** is 90%, suggesting that the model is good at identifying the correct digit when it appears in the test set."
      ],
      "metadata": {
        "id": "TsI1OXP1k_mK"
      }
    },
    {
      "cell_type": "markdown",
      "source": [
        "**F1-score** is 16%, reflecting the poor balance between precision and recall."
      ],
      "metadata": {
        "id": "zAg_OPaqlErE"
      }
    },
    {
      "cell_type": "markdown",
      "source": [
        "**Conclusion**\n",
        "\n",
        "\n",
        "---\n",
        "\n",
        "\n",
        "While the model achieves reasonable mean accuracy of 82.3%, its low precision and F1-scores suggest significant room for improvement."
      ],
      "metadata": {
        "id": "xM6x70aSil5K"
      }
    },
    {
      "cell_type": "markdown",
      "metadata": {
        "id": "jZHVS962xwHi"
      },
      "source": [
        "##Part B: SoftMax Regression"
      ]
    },
    {
      "cell_type": "markdown",
      "metadata": {
        "id": "t4QiQcnMfXPz"
      },
      "source": [
        "###Define helper functions"
      ]
    },
    {
      "cell_type": "markdown",
      "metadata": {
        "id": "GgxOEPETIoq7"
      },
      "source": [
        "**Softmax implementation notes:**\n",
        "*   Gets a matrix z (N, K) and does a softmax on each row\n",
        "*   Subtructing the max element prevents numerical overflow or underflow in the exponential computation.\n",
        "*   keepdims is True for keeping the original dimantions and not reducing the dim by 1 as usual.\n",
        "*   np.clip is used to ensure that the prob is never exactly zero for further log operation."
      ]
    },
    {
      "cell_type": "code",
      "execution_count": null,
      "metadata": {
        "id": "ctr8aFF-Jk1T"
      },
      "outputs": [],
      "source": [
        "def softmax(Z):\n",
        "  \"\"\"\n",
        "  Softmax function\n",
        "  params:\n",
        "    Z: numpy array of shape (N, K)\n",
        "  returns:\n",
        "    probs: numpy array of shape (N, K)\n",
        "  \"\"\"\n",
        "  Z -= np.max(Z, axis=1, keepdims=True)\n",
        "  exp_Z = np.exp(Z)\n",
        "  probs = exp_Z / np.sum(exp_Z, axis=1, keepdims=True)\n",
        "  np.clip(probs, 1e-10, 1.0, out= probs)\n",
        "\n",
        "  return probs"
      ]
    },
    {
      "cell_type": "markdown",
      "metadata": {
        "id": "kZUWwFoMJmj7"
      },
      "source": [
        "**Categorical_cross_entropy_loss implementation notes:**\n",
        "*   Copmutes loss\n",
        "*   y_onehot * np.log(probs) acts as the indicator function"
      ]
    },
    {
      "cell_type": "code",
      "execution_count": null,
      "metadata": {
        "id": "oIrorFqCJxC7"
      },
      "outputs": [],
      "source": [
        "def categorical_cross_entropy_loss(W, X, y_onehot):\n",
        "  \"\"\"\n",
        "  Categorical cross-entropy loss function\n",
        "  params:\n",
        "    W: numpy array of shape (K, d+1)\n",
        "    X: numpy array of shape (N, d+1)\n",
        "    y_onehot: numpy array of shape (N, K)\n",
        "  returns:\n",
        "    loss: float\n",
        "  \"\"\"\n",
        "  probs = softmax(X @ W.T)\n",
        "  loss = - np.sum(y_onehot * np.log(probs))\n",
        "  N = X.shape[0]\n",
        "\n",
        "  return loss / N"
      ]
    },
    {
      "cell_type": "markdown",
      "metadata": {
        "id": "vIqH0BO8J8ak"
      },
      "source": [
        "**compute_gradients implementation notes:**\n",
        "*   Computes the gradient"
      ]
    },
    {
      "cell_type": "code",
      "execution_count": null,
      "metadata": {
        "id": "UZpw63OoRKQ_"
      },
      "outputs": [],
      "source": [
        "def compute_gradients(W, X, y_onehot):\n",
        "  \"\"\"\n",
        "  Compute the gradients\n",
        "  params:\n",
        "    W: numpy array of shape (K, d+1)\n",
        "    X: numpy array of shape (N, d+1)\n",
        "    y_onehot: numpy array of shape (N, K)\n",
        "  returns:\n",
        "    gradient: numpy array of shape (K, d+1)\n",
        "  \"\"\"\n",
        "  probs = softmax(X @ W.T)\n",
        "  gradient = (probs - y_onehot).T @ X\n",
        "  N = X.shape[0]\n",
        "\n",
        "  return gradient / N"
      ]
    },
    {
      "cell_type": "markdown",
      "metadata": {
        "id": "PUKyKdF0f6aR"
      },
      "source": [
        "###The Logistic Regression Algorithm for multi-class classification"
      ]
    },
    {
      "cell_type": "code",
      "execution_count": null,
      "metadata": {
        "id": "GoAXZEdMfUK6"
      },
      "outputs": [],
      "source": [
        "def logistic_regression(W, X_train, X_test, y_train_onehot, y_test_onehot, iterations=100, initial_lr=0.1, eta=0.8):\n",
        "  \"\"\"\n",
        "  Logistic Regression Algorithm for multi-class classification\n",
        "  params:\n",
        "    W: numpy array of shape (K, d+1)\n",
        "    X_train: numpy array of shape (N, d+1)\n",
        "    X_test: numpy array of shape (N, d+1)\n",
        "    y_train_onehot: numpy array of shape (N, K)\n",
        "    y_test_onehot: numpy array of shape (N, K)\n",
        "    iterations: number of iterations to perform\n",
        "    initial_lr: initial learning rate\n",
        "    eta: learning rate decay rate\n",
        "  returns:\n",
        "    training_losses: list of lists, each list contains the training loss for each class\n",
        "    test_losses: list of lists, each list contains the test loss for each class\n",
        "  \"\"\"\n",
        "  # init losses to empty\n",
        "  training_losses = []\n",
        "  test_losses = []\n",
        "\n",
        "  lr = initial_lr # init learning rate\n",
        "  initial_loss = categorical_cross_entropy_loss(W, X_train, y_train_onehot)\n",
        "\n",
        "  for i in tqdm(range(iterations), desc=\"Logistic Regression\"):\n",
        "\n",
        "      gradients = compute_gradients(W, X_train, y_train_onehot)\n",
        "      W += lr * (-gradients)  # Gradient descent update rule\n",
        "\n",
        "      gradient_norm = np.linalg.norm(gradients) # norm of the gradients\n",
        "      lr = eta * gradient_norm # update learning rate\n",
        "\n",
        "      if i %10 == 0:\n",
        "        curr_train_loss = categorical_cross_entropy_loss(W, X_train, y_train_onehot)\n",
        "        training_losses.append(curr_train_loss)\n",
        "        test_losses.append(categorical_cross_entropy_loss(W, X_test, y_test_onehot))\n",
        "        print(f\" curr loss: {round(curr_train_loss, 2)}\")\n",
        "\n",
        "  return training_losses, test_losses"
      ]
    },
    {
      "cell_type": "markdown",
      "metadata": {
        "id": "-Y-B2bmsgJhE"
      },
      "source": [
        "**Run the Logistic Regression Algorithm**\n",
        "*   init W to be close to 0.\n",
        "\n",
        "*   iterations = 100. tested numbers between 50 and 200. 50 was insufficient, 200 was taking too long.\n",
        "\n",
        "*   Initial learning rate = 0.1. tested numbers between 0.01 and 1. values close to 0.001 wasnt converging fast enough even with high number of epochs and values close to 1 was oscillating even with low eta.\n",
        "\n",
        "*   eta = 0.8. tested numbers between 0.1 and 1. values close to 0.1 get too low after 50 iterations and values close to 1 wasnt reducing the learning rate fast enough.\n",
        "\n",
        "*   Note: the norm of the gradient is at most sqrt(K * D) = sqrt(10 * 784) ~ 88.5\n",
        "\n",
        "*   Insight: eta should be low becuse the learning rate needs to be between [0, 1]."
      ]
    },
    {
      "cell_type": "code",
      "execution_count": null,
      "metadata": {
        "colab": {
          "base_uri": "https://localhost:8080/",
          "height": 223,
          "referenced_widgets": [
            "09188bf7dcf4418ea2d18f4eb7cda07f",
            "c0a95b2ea6684381b6987e7a49bc7aac",
            "b3fe2124c3aa457087ffa2c15a5658d7",
            "de420e67a2734392b72397b2f5a8cc30",
            "7010c861c91a437ca7a748d4c0b60e1f",
            "13fedb077d684998b462bc744057ffd1",
            "b5317c126047453cadfb81063abab22c",
            "56628fe23f7748b4b36ceecf92c18b5f",
            "5110f2110ef4495da167c6568cc1aad3",
            "32aae1fad92f4f879e8efe69b9591f45",
            "379d5794ee8145a2b076620b9cde4dcc"
          ]
        },
        "id": "9Ni6d_AmlSrk",
        "outputId": "b71746fe-1d0b-43ff-b0a3-46672c61031d"
      },
      "outputs": [
        {
          "output_type": "display_data",
          "data": {
            "text/plain": [
              "Logistic Regression:   0%|          | 0/100 [00:00<?, ?it/s]"
            ],
            "application/vnd.jupyter.widget-view+json": {
              "version_major": 2,
              "version_minor": 0,
              "model_id": "09188bf7dcf4418ea2d18f4eb7cda07f"
            }
          },
          "metadata": {}
        },
        {
          "output_type": "stream",
          "name": "stdout",
          "text": [
            " curr loss: 13.01\n",
            " curr loss: 3.22\n",
            " curr loss: 2.66\n",
            " curr loss: 2.41\n",
            " curr loss: 2.24\n",
            " curr loss: 2.11\n",
            " curr loss: 2.01\n",
            " curr loss: 1.92\n",
            " curr loss: 1.86\n",
            " curr loss: 1.8\n"
          ]
        }
      ],
      "source": [
        "W = np.random.normal(loc= 0, scale= 1, size=(K, X_train.shape[1])) # init the w vector of each class to random values\n",
        "training_losses, test_losses = logistic_regression(W, X_train, X_test, y_train_onehot, y_test_onehot, iterations=100, initial_lr=0.1, eta=0.8)"
      ]
    },
    {
      "cell_type": "markdown",
      "metadata": {
        "id": "LXT4LW8FgjPz"
      },
      "source": [
        "###Plot Losses"
      ]
    },
    {
      "cell_type": "code",
      "execution_count": null,
      "metadata": {
        "colab": {
          "base_uri": "https://localhost:8080/"
        },
        "id": "G-GmhDqbvgz-",
        "outputId": "4fd03ab0-14aa-4f12-b29b-3250efe09ab1"
      },
      "outputs": [
        {
          "output_type": "display_data",
          "data": {
            "text/plain": [
              "<Figure size 1500x500 with 1 Axes>"
            ],
            "image/png": "[encoded data removed]"
          },
          "metadata": {}
        }
      ],
      "source": [
        "plot_losses(list(training_losses), list(test_losses))"
      ]
    },
    {
      "cell_type": "markdown",
      "metadata": {
        "id": "1jp6C2MXeJIP"
      },
      "source": [
        "###Predict"
      ]
    },
    {
      "cell_type": "code",
      "execution_count": null,
      "metadata": {
        "id": "ehh9WMHRstJF"
      },
      "outputs": [],
      "source": [
        "probs = softmax(X_test @ W.T)\n",
        "y_pred = np.argmax(probs, axis=1)"
      ]
    },
    {
      "cell_type": "markdown",
      "metadata": {
        "id": "eS0dLctxgsXy"
      },
      "source": [
        "###The Confusion Matrix\n"
      ]
    },
    {
      "cell_type": "code",
      "execution_count": null,
      "metadata": {
        "colab": {
          "base_uri": "https://localhost:8080/",
          "height": 288
        },
        "id": "OYwoDoXzqD4X",
        "outputId": "236a622f-649f-48fc-fc7f-80d2d0d6aac1"
      },
      "outputs": [
        {
          "output_type": "display_data",
          "data": {
            "text/plain": [
              "<Figure size 1500x300 with 10 Axes>"
            ],
            "image/png": "[encoded data removed]"
          },
          "metadata": {}
        }
      ],
      "source": [
        "confusion_matrix = Build_and_Display_CM(y_pred, y_test)"
      ]
    },
    {
      "cell_type": "markdown",
      "metadata": {
        "id": "NJAgU_R6gy_K"
      },
      "source": [
        "###Performance Matrices"
      ]
    },
    {
      "cell_type": "code",
      "execution_count": null,
      "metadata": {
        "colab": {
          "base_uri": "https://localhost:8080/"
        },
        "id": "4C5pvKObqUnt",
        "outputId": "33283f68-ba3e-4f9d-afe4-393fb23f24de"
      },
      "outputs": [
        {
          "output_type": "stream",
          "name": "stdout",
          "text": [
            "Class |  TP  |  FP  |  FN  |   TN  | Accuracy | Precision | Recall | F1 score\n",
            "   0  |  827 |  156 |  194 | 8823 |    0.965 |      0.81 |   0.98 |   0.88\n",
            "   1  |  966 |  186 |  186 | 8662 |    0.963 |      0.84 |   0.98 |   0.90\n",
            "   2  |  663 |  304 |  352 | 8681 |    0.934 |      0.65 |   0.97 |   0.77\n",
            "   3  |  697 |  337 |  384 | 8582 |    0.928 |      0.64 |   0.96 |   0.76\n",
            "   4  |  576 |  330 |  371 | 8723 |    0.930 |      0.61 |   0.96 |   0.74\n",
            "   5  |  440 |  497 |  407 | 8656 |    0.910 |      0.52 |   0.95 |   0.66\n",
            "   6  |  738 |  223 |  271 | 8768 |    0.951 |      0.73 |   0.98 |   0.83\n",
            "   7  |  754 |  301 |  255 | 8690 |    0.944 |      0.75 |   0.97 |   0.83\n",
            "   8  |  525 |  444 |  401 | 8630 |    0.915 |      0.57 |   0.95 |   0.70\n",
            "   9  |  572 |  464 |  421 | 8543 |    0.911 |      0.58 |   0.95 |   0.71\n",
            "mean Accuracy:  0.935\n",
            "mean Precision: 0.670\n",
            "mean Recall:    0.964\n",
            "mean F1 score:  0.777\n"
          ]
        }
      ],
      "source": [
        "Display_matrices(confusion_matrix)"
      ]
    },
    {
      "cell_type": "markdown",
      "source": [
        "###Discussion:"
      ],
      "metadata": {
        "id": "KF-aiRgRz-Qh"
      }
    },
    {
      "cell_type": "markdown",
      "source": [
        "**Accuracy** is 93%, showing great ability to distinguish between digits."
      ],
      "metadata": {
        "id": "fEFe6mlQz-Qj"
      }
    },
    {
      "cell_type": "markdown",
      "source": [
        "**Precision** ranges between 52% - 84% and is notably low for all classes, indicating a difficulty in avoiding false positives."
      ],
      "metadata": {
        "id": "0Zpoiueaz-Qj"
      }
    },
    {
      "cell_type": "markdown",
      "source": [
        "**Recall** is 96% across all classes, suggesting that the model is excellent at identifying true instances of each digit when they appear, meaning it does not miss many true positives."
      ],
      "metadata": {
        "id": "QnlMlv2Mz-Qk"
      }
    },
    {
      "cell_type": "markdown",
      "source": [
        "**F1 score** is 77%, indicating a good balance between precision and recall."
      ],
      "metadata": {
        "id": "HEA7yHLhz-Qk"
      }
    },
    {
      "cell_type": "markdown",
      "source": [
        "**Conclusion**\n",
        "\n",
        "\n",
        "---\n",
        "\n",
        "\n",
        "While the model achieves reasonable mean accuracy of 93.5%, its low precision suggest significant room for improvement."
      ],
      "metadata": {
        "id": "aUSTZ-0fz-Qk"
      }
    },
    {
      "cell_type": "markdown",
      "metadata": {
        "id": "r75DRQFbx0XL"
      },
      "source": [
        "##Part C: Linear Regression"
      ]
    },
    {
      "cell_type": "markdown",
      "metadata": {
        "id": "czlfMx0tg2ij"
      },
      "source": [
        "###The Linear Regression Algorithm"
      ]
    },
    {
      "cell_type": "markdown",
      "metadata": {
        "id": "sApcL4KBZnbP"
      },
      "source": [
        "note: instead of y being a (N,) vector, its now (N, K) and the result is (D, K) meaning we need to transpose to get W = (K, D)."
      ]
    },
    {
      "cell_type": "code",
      "execution_count": null,
      "metadata": {
        "id": "01BG4ysni_iZ"
      },
      "outputs": [],
      "source": [
        "def linear_regression(X_train, y_train_onehot):\n",
        "    return (np.linalg.pinv(X_train.T @ X_train) @ X_train.T @ y_train_onehot).T"
      ]
    },
    {
      "cell_type": "markdown",
      "metadata": {
        "id": "18owCtx1g6Yy"
      },
      "source": [
        "**Run the Linear Regression Algorithm**"
      ]
    },
    {
      "cell_type": "code",
      "execution_count": null,
      "metadata": {
        "id": "AynTn01gjAs5"
      },
      "outputs": [],
      "source": [
        "W = linear_regression(X_train, y_train_onehot)"
      ]
    },
    {
      "cell_type": "markdown",
      "metadata": {
        "id": "1rEmN5n8hBKq"
      },
      "source": [
        "###Predict"
      ]
    },
    {
      "cell_type": "markdown",
      "metadata": {
        "id": "aJ6-6LSzg-0o"
      },
      "source": [
        "**Make predictions**"
      ]
    },
    {
      "cell_type": "code",
      "execution_count": null,
      "metadata": {
        "id": "7h8hBqzpebfY"
      },
      "outputs": [],
      "source": [
        "y_pred = predict(W, X_test)"
      ]
    },
    {
      "cell_type": "markdown",
      "metadata": {
        "id": "GYDTpuvPhzwL"
      },
      "source": [
        "###The Confusion Matrix"
      ]
    },
    {
      "cell_type": "code",
      "execution_count": null,
      "metadata": {
        "colab": {
          "base_uri": "https://localhost:8080/",
          "height": 288
        },
        "id": "bh-E0PATj_ra",
        "outputId": "6e8df6ed-1b79-4a70-ec49-cd8a9f6665da"
      },
      "outputs": [
        {
          "output_type": "display_data",
          "data": {
            "text/plain": [
              "<Figure size 1500x300 with 10 Axes>"
            ],
            "image/png": "[encoded data removed]"
          },
          "metadata": {}
        }
      ],
      "source": [
        "confusion_matrix = Build_and_Display_CM(y_pred, y_test)"
      ]
    },
    {
      "cell_type": "markdown",
      "metadata": {
        "id": "7QQ3oLskh8Lb"
      },
      "source": [
        "###Performance Matrices"
      ]
    },
    {
      "cell_type": "code",
      "execution_count": null,
      "metadata": {
        "colab": {
          "base_uri": "https://localhost:8080/"
        },
        "id": "kfyJVRc8kIiC",
        "outputId": "4f1eb7d1-03e3-41bb-bde6-5b3a9271b241"
      },
      "outputs": [
        {
          "output_type": "stream",
          "name": "stdout",
          "text": [
            "Class |  TP  |  FP  |  FN  |   TN  | Accuracy | Precision | Recall | F1 score\n",
            "   0  |  935 |   48 |   98 | 8919 |    0.985 |      0.91 |   0.99 |   0.94\n",
            "   1  | 1121 |   31 |  269 | 8579 |    0.970 |      0.81 |   1.00 |   0.88\n",
            "   2  |  780 |  187 |   91 | 8942 |    0.972 |      0.90 |   0.98 |   0.93\n",
            "   3  |  865 |  169 |  192 | 8774 |    0.964 |      0.82 |   0.98 |   0.89\n",
            "   4  |  797 |  109 |  198 | 8896 |    0.969 |      0.80 |   0.99 |   0.88\n",
            "   5  |  682 |  255 |   98 | 8965 |    0.965 |      0.87 |   0.97 |   0.92\n",
            "   6  |  884 |   77 |  113 | 8926 |    0.981 |      0.89 |   0.99 |   0.93\n",
            "   7  |  907 |  148 |  128 | 8817 |    0.972 |      0.88 |   0.98 |   0.92\n",
            "   8  |  700 |  269 |  130 | 8901 |    0.960 |      0.84 |   0.97 |   0.90\n",
            "   9  |  842 |  194 |  170 | 8794 |    0.964 |      0.83 |   0.98 |   0.89\n",
            "mean Accuracy:  0.970\n",
            "mean Precision: 0.854\n",
            "mean Recall:    0.984\n",
            "mean F1 score:  0.908\n"
          ]
        }
      ],
      "source": [
        "Display_matrices(confusion_matrix)"
      ]
    },
    {
      "cell_type": "markdown",
      "source": [
        "###Discussion:"
      ],
      "metadata": {
        "id": "5teOu4I31mnk"
      }
    },
    {
      "cell_type": "markdown",
      "source": [
        "**Accuracy** is 97%, showing great ability to distinguish between digits."
      ],
      "metadata": {
        "id": "ik4DGeny1mnl"
      }
    },
    {
      "cell_type": "markdown",
      "source": [
        "**Precision** is 85%, indicating a sight difficulty in avoiding false positives."
      ],
      "metadata": {
        "id": "qCSuD3DB1mnl"
      }
    },
    {
      "cell_type": "markdown",
      "source": [
        "**Recall** is 98% and above 97% across al classes, suggesting that the model is excellent at identifying true instances of each digit when they appear, meaning strog ability to minimize false negatives."
      ],
      "metadata": {
        "id": "GwCyDkv61mnl"
      }
    },
    {
      "cell_type": "markdown",
      "source": [
        "**F1 score** is 90%, indicating a good balance between precision and recall."
      ],
      "metadata": {
        "id": "MQ_UXJiZ1mnl"
      }
    },
    {
      "cell_type": "markdown",
      "source": [
        "**Conclusion**\n",
        "\n",
        "\n",
        "---\n",
        "\n",
        "\n",
        "The model achieves mean accuracy of 97% that reflects excellent detection across all classes. However, there is still room to improve precision.\n",
        "\n",
        "*   Strengths: Simple, fast, and provides high accuracy for classification tasks like MNIST.\n",
        "*   Weaknesses: Limited by linear decision boundaries and struggles with more complex data structures. Non-linear patterns in MNIST reduce its performance."
      ],
      "metadata": {
        "id": "G4xc2hEY1mnl"
      }
    },
    {
      "cell_type": "markdown",
      "source": [
        "**Comparison**\n",
        "\n",
        "\n",
        "---\n",
        "\n",
        "\n",
        "*   Linear Regression has he best metricies out of the preceptron and the softmax models."
      ],
      "metadata": {
        "id": "T-_e6-r37SX9"
      }
    }
  ],
  "metadata": {
    "colab": {
      "collapsed_sections": [
        "E-Q5fgcYrkji",
        "59zVG7LBnOr9"
      ],
      "gpuType": "T4",
      "provenance": [],
      "include_colab_link": true
    },
    "kernelspec": {
      "display_name": "Python 3",
      "name": "python3"
    },
    "language_info": {
      "codemirror_mode": {
        "name": "ipython",
        "version": 3
      },
      "file_extension": ".py",
      "mimetype": "text/x-python",
      "name": "python",
      "nbconvert_exporter": "python",
      "pygments_lexer": "ipython3",
      "version": "3.11.1"
    },
    "widgets": {
      "application/vnd.jupyter.widget-state+json": {
        "f1fa13f62fbf4fa688f0e935f4f69974": {
          "model_module": "@jupyter-widgets/controls",
          "model_name": "HBoxModel",
          "model_module_version": "1.5.0",
          "state": {
            "_dom_classes": [],
            "_model_module": "@jupyter-widgets/controls",
            "_model_module_version": "1.5.0",
            "_model_name": "HBoxModel",
            "_view_count": null,
            "_view_module": "@jupyter-widgets/controls",
            "_view_module_version": "1.5.0",
            "_view_name": "HBoxView",
            "box_style": "",
            "children": [
              "IPY_MODEL_1f66b9bb93f14790afe750bfc0431625",
              "IPY_MODEL_365528f3eff14745bd01877824db1b6a",
              "IPY_MODEL_a643bc32083a40729467c9ead7fa44f8"
            ],
            "layout": "IPY_MODEL_50388700d3394c5a934fd738071cc68a"
          }
        },
        "1f66b9bb93f14790afe750bfc0431625": {
          "model_module": "@jupyter-widgets/controls",
          "model_name": "HTMLModel",
          "model_module_version": "1.5.0",
          "state": {
            "_dom_classes": [],
            "_model_module": "@jupyter-widgets/controls",
            "_model_module_version": "1.5.0",
            "_model_name": "HTMLModel",
            "_view_count": null,
            "_view_module": "@jupyter-widgets/controls",
            "_view_module_version": "1.5.0",
            "_view_name": "HTMLView",
            "description": "",
            "description_tooltip": null,
            "layout": "IPY_MODEL_d389a318687d41a7bb9467feb00c4d3b",
            "placeholder": "​",
            "style": "IPY_MODEL_698a1f65ab2e42fa998de30d0c198227",
            "value": "Outer: 100%"
          }
        },
        "365528f3eff14745bd01877824db1b6a": {
          "model_module": "@jupyter-widgets/controls",
          "model_name": "FloatProgressModel",
          "model_module_version": "1.5.0",
          "state": {
            "_dom_classes": [],
            "_model_module": "@jupyter-widgets/controls",
            "_model_module_version": "1.5.0",
            "_model_name": "FloatProgressModel",
            "_view_count": null,
            "_view_module": "@jupyter-widgets/controls",
            "_view_module_version": "1.5.0",
            "_view_name": "ProgressView",
            "bar_style": "success",
            "description": "",
            "description_tooltip": null,
            "layout": "IPY_MODEL_7a0a31ac61404047a908a80b8dc40e50",
            "max": 10,
            "min": 0,
            "orientation": "horizontal",
            "style": "IPY_MODEL_f522f5bc7630434fbc3452b8013dcf76",
            "value": 10
          }
        },
        "a643bc32083a40729467c9ead7fa44f8": {
          "model_module": "@jupyter-widgets/controls",
          "model_name": "HTMLModel",
          "model_module_version": "1.5.0",
          "state": {
            "_dom_classes": [],
            "_model_module": "@jupyter-widgets/controls",
            "_model_module_version": "1.5.0",
            "_model_name": "HTMLModel",
            "_view_count": null,
            "_view_module": "@jupyter-widgets/controls",
            "_view_module_version": "1.5.0",
            "_view_name": "HTMLView",
            "description": "",
            "description_tooltip": null,
            "layout": "IPY_MODEL_2d0215ff1e7c4d9e9dcf7c75b4f16411",
            "placeholder": "​",
            "style": "IPY_MODEL_ef1763f3a9d24448a40318925dcf2a37",
            "value": " 10/10 [01:26&lt;00:00,  8.60s/it]"
          }
        },
        "50388700d3394c5a934fd738071cc68a": {
          "model_module": "@jupyter-widgets/base",
          "model_name": "LayoutModel",
          "model_module_version": "1.2.0",
          "state": {
            "_model_module": "@jupyter-widgets/base",
            "_model_module_version": "1.2.0",
            "_model_name": "LayoutModel",
            "_view_count": null,
            "_view_module": "@jupyter-widgets/base",
            "_view_module_version": "1.2.0",
            "_view_name": "LayoutView",
            "align_content": null,
            "align_items": null,
            "align_self": null,
            "border": null,
            "bottom": null,
            "display": null,
            "flex": null,
            "flex_flow": null,
            "grid_area": null,
            "grid_auto_columns": null,
            "grid_auto_flow": null,
            "grid_auto_rows": null,
            "grid_column": null,
            "grid_gap": null,
            "grid_row": null,
            "grid_template_areas": null,
            "grid_template_columns": null,
            "grid_template_rows": null,
            "height": null,
            "justify_content": null,
            "justify_items": null,
            "left": null,
            "margin": null,
            "max_height": null,
            "max_width": null,
            "min_height": null,
            "min_width": null,
            "object_fit": null,
            "object_position": null,
            "order": null,
            "overflow": null,
            "overflow_x": null,
            "overflow_y": null,
            "padding": null,
            "right": null,
            "top": null,
            "visibility": null,
            "width": null
          }
        },
        "d389a318687d41a7bb9467feb00c4d3b": {
          "model_module": "@jupyter-widgets/base",
          "model_name": "LayoutModel",
          "model_module_version": "1.2.0",
          "state": {
            "_model_module": "@jupyter-widgets/base",
            "_model_module_version": "1.2.0",
            "_model_name": "LayoutModel",
            "_view_count": null,
            "_view_module": "@jupyter-widgets/base",
            "_view_module_version": "1.2.0",
            "_view_name": "LayoutView",
            "align_content": null,
            "align_items": null,
            "align_self": null,
            "border": null,
            "bottom": null,
            "display": null,
            "flex": null,
            "flex_flow": null,
            "grid_area": null,
            "grid_auto_columns": null,
            "grid_auto_flow": null,
            "grid_auto_rows": null,
            "grid_column": null,
            "grid_gap": null,
            "grid_row": null,
            "grid_template_areas": null,
            "grid_template_columns": null,
            "grid_template_rows": null,
            "height": null,
            "justify_content": null,
            "justify_items": null,
            "left": null,
            "margin": null,
            "max_height": null,
            "max_width": null,
            "min_height": null,
            "min_width": null,
            "object_fit": null,
            "object_position": null,
            "order": null,
            "overflow": null,
            "overflow_x": null,
            "overflow_y": null,
            "padding": null,
            "right": null,
            "top": null,
            "visibility": null,
            "width": null
          }
        },
        "698a1f65ab2e42fa998de30d0c198227": {
          "model_module": "@jupyter-widgets/controls",
          "model_name": "DescriptionStyleModel",
          "model_module_version": "1.5.0",
          "state": {
            "_model_module": "@jupyter-widgets/controls",
            "_model_module_version": "1.5.0",
            "_model_name": "DescriptionStyleModel",
            "_view_count": null,
            "_view_module": "@jupyter-widgets/base",
            "_view_module_version": "1.2.0",
            "_view_name": "StyleView",
            "description_width": ""
          }
        },
        "7a0a31ac61404047a908a80b8dc40e50": {
          "model_module": "@jupyter-widgets/base",
          "model_name": "LayoutModel",
          "model_module_version": "1.2.0",
          "state": {
            "_model_module": "@jupyter-widgets/base",
            "_model_module_version": "1.2.0",
            "_model_name": "LayoutModel",
            "_view_count": null,
            "_view_module": "@jupyter-widgets/base",
            "_view_module_version": "1.2.0",
            "_view_name": "LayoutView",
            "align_content": null,
            "align_items": null,
            "align_self": null,
            "border": null,
            "bottom": null,
            "display": null,
            "flex": null,
            "flex_flow": null,
            "grid_area": null,
            "grid_auto_columns": null,
            "grid_auto_flow": null,
            "grid_auto_rows": null,
            "grid_column": null,
            "grid_gap": null,
            "grid_row": null,
            "grid_template_areas": null,
            "grid_template_columns": null,
            "grid_template_rows": null,
            "height": null,
            "justify_content": null,
            "justify_items": null,
            "left": null,
            "margin": null,
            "max_height": null,
            "max_width": null,
            "min_height": null,
            "min_width": null,
            "object_fit": null,
            "object_position": null,
            "order": null,
            "overflow": null,
            "overflow_x": null,
            "overflow_y": null,
            "padding": null,
            "right": null,
            "top": null,
            "visibility": null,
            "width": null
          }
        },
        "f522f5bc7630434fbc3452b8013dcf76": {
          "model_module": "@jupyter-widgets/controls",
          "model_name": "ProgressStyleModel",
          "model_module_version": "1.5.0",
          "state": {
            "_model_module": "@jupyter-widgets/controls",
            "_model_module_version": "1.5.0",
            "_model_name": "ProgressStyleModel",
            "_view_count": null,
            "_view_module": "@jupyter-widgets/base",
            "_view_module_version": "1.2.0",
            "_view_name": "StyleView",
            "bar_color": null,
            "description_width": ""
          }
        },
        "2d0215ff1e7c4d9e9dcf7c75b4f16411": {
          "model_module": "@jupyter-widgets/base",
          "model_name": "LayoutModel",
          "model_module_version": "1.2.0",
          "state": {
            "_model_module": "@jupyter-widgets/base",
            "_model_module_version": "1.2.0",
            "_model_name": "LayoutModel",
            "_view_count": null,
            "_view_module": "@jupyter-widgets/base",
            "_view_module_version": "1.2.0",
            "_view_name": "LayoutView",
            "align_content": null,
            "align_items": null,
            "align_self": null,
            "border": null,
            "bottom": null,
            "display": null,
            "flex": null,
            "flex_flow": null,
            "grid_area": null,
            "grid_auto_columns": null,
            "grid_auto_flow": null,
            "grid_auto_rows": null,
            "grid_column": null,
            "grid_gap": null,
            "grid_row": null,
            "grid_template_areas": null,
            "grid_template_columns": null,
            "grid_template_rows": null,
            "height": null,
            "justify_content": null,
            "justify_items": null,
            "left": null,
            "margin": null,
            "max_height": null,
            "max_width": null,
            "min_height": null,
            "min_width": null,
            "object_fit": null,
            "object_position": null,
            "order": null,
            "overflow": null,
            "overflow_x": null,
            "overflow_y": null,
            "padding": null,
            "right": null,
            "top": null,
            "visibility": null,
            "width": null
          }
        },
        "ef1763f3a9d24448a40318925dcf2a37": {
          "model_module": "@jupyter-widgets/controls",
          "model_name": "DescriptionStyleModel",
          "model_module_version": "1.5.0",
          "state": {
            "_model_module": "@jupyter-widgets/controls",
            "_model_module_version": "1.5.0",
            "_model_name": "DescriptionStyleModel",
            "_view_count": null,
            "_view_module": "@jupyter-widgets/base",
            "_view_module_version": "1.2.0",
            "_view_name": "StyleView",
            "description_width": ""
          }
        },
        "11a60d338d83473f96812bd12f6f2f0f": {
          "model_module": "@jupyter-widgets/controls",
          "model_name": "HBoxModel",
          "model_module_version": "1.5.0",
          "state": {
            "_dom_classes": [],
            "_model_module": "@jupyter-widgets/controls",
            "_model_module_version": "1.5.0",
            "_model_name": "HBoxModel",
            "_view_count": null,
            "_view_module": "@jupyter-widgets/controls",
            "_view_module_version": "1.5.0",
            "_view_name": "HBoxView",
            "box_style": "",
            "children": [
              "IPY_MODEL_9d64f08cf4c34bc58b30e869c4450656",
              "IPY_MODEL_e84e55b90a724802a1ffa52037313296",
              "IPY_MODEL_29118b5fd1d841958ad7f608e5f5006c"
            ],
            "layout": "IPY_MODEL_5dd6c0c53b95471fb17866e1702b942c"
          }
        },
        "9d64f08cf4c34bc58b30e869c4450656": {
          "model_module": "@jupyter-widgets/controls",
          "model_name": "HTMLModel",
          "model_module_version": "1.5.0",
          "state": {
            "_dom_classes": [],
            "_model_module": "@jupyter-widgets/controls",
            "_model_module_version": "1.5.0",
            "_model_name": "HTMLModel",
            "_view_count": null,
            "_view_module": "@jupyter-widgets/controls",
            "_view_module_version": "1.5.0",
            "_view_name": "HTMLView",
            "description": "",
            "description_tooltip": null,
            "layout": "IPY_MODEL_78f099f01aa1445988b072a5652a07ac",
            "placeholder": "​",
            "style": "IPY_MODEL_ac4dae5181834ce782f71b0f853c85a5",
            "value": "Inner: 100%"
          }
        },
        "e84e55b90a724802a1ffa52037313296": {
          "model_module": "@jupyter-widgets/controls",
          "model_name": "FloatProgressModel",
          "model_module_version": "1.5.0",
          "state": {
            "_dom_classes": [],
            "_model_module": "@jupyter-widgets/controls",
            "_model_module_version": "1.5.0",
            "_model_name": "FloatProgressModel",
            "_view_count": null,
            "_view_module": "@jupyter-widgets/controls",
            "_view_module_version": "1.5.0",
            "_view_name": "ProgressView",
            "bar_style": "",
            "description": "",
            "description_tooltip": null,
            "layout": "IPY_MODEL_9ddda92dc68f4b8b8797744b0cffb836",
            "max": 101,
            "min": 0,
            "orientation": "horizontal",
            "style": "IPY_MODEL_47699316ed834672a3ce3158aaa54ff2",
            "value": 101
          }
        },
        "29118b5fd1d841958ad7f608e5f5006c": {
          "model_module": "@jupyter-widgets/controls",
          "model_name": "HTMLModel",
          "model_module_version": "1.5.0",
          "state": {
            "_dom_classes": [],
            "_model_module": "@jupyter-widgets/controls",
            "_model_module_version": "1.5.0",
            "_model_name": "HTMLModel",
            "_view_count": null,
            "_view_module": "@jupyter-widgets/controls",
            "_view_module_version": "1.5.0",
            "_view_name": "HTMLView",
            "description": "",
            "description_tooltip": null,
            "layout": "IPY_MODEL_c4ac119a9a0f44ce9b1351b139480439",
            "placeholder": "​",
            "style": "IPY_MODEL_0f1e33e461bb4120a879c6026318fd7c",
            "value": " 101/101 [00:08&lt;00:00, 11.34it/s]"
          }
        },
        "5dd6c0c53b95471fb17866e1702b942c": {
          "model_module": "@jupyter-widgets/base",
          "model_name": "LayoutModel",
          "model_module_version": "1.2.0",
          "state": {
            "_model_module": "@jupyter-widgets/base",
            "_model_module_version": "1.2.0",
            "_model_name": "LayoutModel",
            "_view_count": null,
            "_view_module": "@jupyter-widgets/base",
            "_view_module_version": "1.2.0",
            "_view_name": "LayoutView",
            "align_content": null,
            "align_items": null,
            "align_self": null,
            "border": null,
            "bottom": null,
            "display": null,
            "flex": null,
            "flex_flow": null,
            "grid_area": null,
            "grid_auto_columns": null,
            "grid_auto_flow": null,
            "grid_auto_rows": null,
            "grid_column": null,
            "grid_gap": null,
            "grid_row": null,
            "grid_template_areas": null,
            "grid_template_columns": null,
            "grid_template_rows": null,
            "height": null,
            "justify_content": null,
            "justify_items": null,
            "left": null,
            "margin": null,
            "max_height": null,
            "max_width": null,
            "min_height": null,
            "min_width": null,
            "object_fit": null,
            "object_position": null,
            "order": null,
            "overflow": null,
            "overflow_x": null,
            "overflow_y": null,
            "padding": null,
            "right": null,
            "top": null,
            "visibility": "hidden",
            "width": null
          }
        },
        "78f099f01aa1445988b072a5652a07ac": {
          "model_module": "@jupyter-widgets/base",
          "model_name": "LayoutModel",
          "model_module_version": "1.2.0",
          "state": {
            "_model_module": "@jupyter-widgets/base",
            "_model_module_version": "1.2.0",
            "_model_name": "LayoutModel",
            "_view_count": null,
            "_view_module": "@jupyter-widgets/base",
            "_view_module_version": "1.2.0",
            "_view_name": "LayoutView",
            "align_content": null,
            "align_items": null,
            "align_self": null,
            "border": null,
            "bottom": null,
            "display": null,
            "flex": null,
            "flex_flow": null,
            "grid_area": null,
            "grid_auto_columns": null,
            "grid_auto_flow": null,
            "grid_auto_rows": null,
            "grid_column": null,
            "grid_gap": null,
            "grid_row": null,
            "grid_template_areas": null,
            "grid_template_columns": null,
            "grid_template_rows": null,
            "height": null,
            "justify_content": null,
            "justify_items": null,
            "left": null,
            "margin": null,
            "max_height": null,
            "max_width": null,
            "min_height": null,
            "min_width": null,
            "object_fit": null,
            "object_position": null,
            "order": null,
            "overflow": null,
            "overflow_x": null,
            "overflow_y": null,
            "padding": null,
            "right": null,
            "top": null,
            "visibility": null,
            "width": null
          }
        },
        "ac4dae5181834ce782f71b0f853c85a5": {
          "model_module": "@jupyter-widgets/controls",
          "model_name": "DescriptionStyleModel",
          "model_module_version": "1.5.0",
          "state": {
            "_model_module": "@jupyter-widgets/controls",
            "_model_module_version": "1.5.0",
            "_model_name": "DescriptionStyleModel",
            "_view_count": null,
            "_view_module": "@jupyter-widgets/base",
            "_view_module_version": "1.2.0",
            "_view_name": "StyleView",
            "description_width": ""
          }
        },
        "9ddda92dc68f4b8b8797744b0cffb836": {
          "model_module": "@jupyter-widgets/base",
          "model_name": "LayoutModel",
          "model_module_version": "1.2.0",
          "state": {
            "_model_module": "@jupyter-widgets/base",
            "_model_module_version": "1.2.0",
            "_model_name": "LayoutModel",
            "_view_count": null,
            "_view_module": "@jupyter-widgets/base",
            "_view_module_version": "1.2.0",
            "_view_name": "LayoutView",
            "align_content": null,
            "align_items": null,
            "align_self": null,
            "border": null,
            "bottom": null,
            "display": null,
            "flex": null,
            "flex_flow": null,
            "grid_area": null,
            "grid_auto_columns": null,
            "grid_auto_flow": null,
            "grid_auto_rows": null,
            "grid_column": null,
            "grid_gap": null,
            "grid_row": null,
            "grid_template_areas": null,
            "grid_template_columns": null,
            "grid_template_rows": null,
            "height": null,
            "justify_content": null,
            "justify_items": null,
            "left": null,
            "margin": null,
            "max_height": null,
            "max_width": null,
            "min_height": null,
            "min_width": null,
            "object_fit": null,
            "object_position": null,
            "order": null,
            "overflow": null,
            "overflow_x": null,
            "overflow_y": null,
            "padding": null,
            "right": null,
            "top": null,
            "visibility": null,
            "width": null
          }
        },
        "47699316ed834672a3ce3158aaa54ff2": {
          "model_module": "@jupyter-widgets/controls",
          "model_name": "ProgressStyleModel",
          "model_module_version": "1.5.0",
          "state": {
            "_model_module": "@jupyter-widgets/controls",
            "_model_module_version": "1.5.0",
            "_model_name": "ProgressStyleModel",
            "_view_count": null,
            "_view_module": "@jupyter-widgets/base",
            "_view_module_version": "1.2.0",
            "_view_name": "StyleView",
            "bar_color": null,
            "description_width": ""
          }
        },
        "c4ac119a9a0f44ce9b1351b139480439": {
          "model_module": "@jupyter-widgets/base",
          "model_name": "LayoutModel",
          "model_module_version": "1.2.0",
          "state": {
            "_model_module": "@jupyter-widgets/base",
            "_model_module_version": "1.2.0",
            "_model_name": "LayoutModel",
            "_view_count": null,
            "_view_module": "@jupyter-widgets/base",
            "_view_module_version": "1.2.0",
            "_view_name": "LayoutView",
            "align_content": null,
            "align_items": null,
            "align_self": null,
            "border": null,
            "bottom": null,
            "display": null,
            "flex": null,
            "flex_flow": null,
            "grid_area": null,
            "grid_auto_columns": null,
            "grid_auto_flow": null,
            "grid_auto_rows": null,
            "grid_column": null,
            "grid_gap": null,
            "grid_row": null,
            "grid_template_areas": null,
            "grid_template_columns": null,
            "grid_template_rows": null,
            "height": null,
            "justify_content": null,
            "justify_items": null,
            "left": null,
            "margin": null,
            "max_height": null,
            "max_width": null,
            "min_height": null,
            "min_width": null,
            "object_fit": null,
            "object_position": null,
            "order": null,
            "overflow": null,
            "overflow_x": null,
            "overflow_y": null,
            "padding": null,
            "right": null,
            "top": null,
            "visibility": null,
            "width": null
          }
        },
        "0f1e33e461bb4120a879c6026318fd7c": {
          "model_module": "@jupyter-widgets/controls",
          "model_name": "DescriptionStyleModel",
          "model_module_version": "1.5.0",
          "state": {
            "_model_module": "@jupyter-widgets/controls",
            "_model_module_version": "1.5.0",
            "_model_name": "DescriptionStyleModel",
            "_view_count": null,
            "_view_module": "@jupyter-widgets/base",
            "_view_module_version": "1.2.0",
            "_view_name": "StyleView",
            "description_width": ""
          }
        },
        "410b2fcfd73a49619a23845a2c2fb8d4": {
          "model_module": "@jupyter-widgets/controls",
          "model_name": "HBoxModel",
          "model_module_version": "1.5.0",
          "state": {
            "_dom_classes": [],
            "_model_module": "@jupyter-widgets/controls",
            "_model_module_version": "1.5.0",
            "_model_name": "HBoxModel",
            "_view_count": null,
            "_view_module": "@jupyter-widgets/controls",
            "_view_module_version": "1.5.0",
            "_view_name": "HBoxView",
            "box_style": "",
            "children": [
              "IPY_MODEL_dbe43e96d8174449ae9628fb7cdf5ef7",
              "IPY_MODEL_c922fa943d014b84b2c3b283d7c22a33",
              "IPY_MODEL_a550a0cfffbb43099d0d65a1c85f8ac3"
            ],
            "layout": "IPY_MODEL_0142a153536c41eaaa390f74e93e1190"
          }
        },
        "dbe43e96d8174449ae9628fb7cdf5ef7": {
          "model_module": "@jupyter-widgets/controls",
          "model_name": "HTMLModel",
          "model_module_version": "1.5.0",
          "state": {
            "_dom_classes": [],
            "_model_module": "@jupyter-widgets/controls",
            "_model_module_version": "1.5.0",
            "_model_name": "HTMLModel",
            "_view_count": null,
            "_view_module": "@jupyter-widgets/controls",
            "_view_module_version": "1.5.0",
            "_view_name": "HTMLView",
            "description": "",
            "description_tooltip": null,
            "layout": "IPY_MODEL_3182fde0ddfa4c85ad2c3d7b3366f450",
            "placeholder": "​",
            "style": "IPY_MODEL_a02f14d24f1e4882b10b685c0c2fafe3",
            "value": "Inner: 100%"
          }
        },
        "c922fa943d014b84b2c3b283d7c22a33": {
          "model_module": "@jupyter-widgets/controls",
          "model_name": "FloatProgressModel",
          "model_module_version": "1.5.0",
          "state": {
            "_dom_classes": [],
            "_model_module": "@jupyter-widgets/controls",
            "_model_module_version": "1.5.0",
            "_model_name": "FloatProgressModel",
            "_view_count": null,
            "_view_module": "@jupyter-widgets/controls",
            "_view_module_version": "1.5.0",
            "_view_name": "ProgressView",
            "bar_style": "",
            "description": "",
            "description_tooltip": null,
            "layout": "IPY_MODEL_1d4313dc9274491ca6efb0469e9cfaee",
            "max": 101,
            "min": 0,
            "orientation": "horizontal",
            "style": "IPY_MODEL_ce39c5a082f14847ba3ec71ec6d4abda",
            "value": 101
          }
        },
        "a550a0cfffbb43099d0d65a1c85f8ac3": {
          "model_module": "@jupyter-widgets/controls",
          "model_name": "HTMLModel",
          "model_module_version": "1.5.0",
          "state": {
            "_dom_classes": [],
            "_model_module": "@jupyter-widgets/controls",
            "_model_module_version": "1.5.0",
            "_model_name": "HTMLModel",
            "_view_count": null,
            "_view_module": "@jupyter-widgets/controls",
            "_view_module_version": "1.5.0",
            "_view_name": "HTMLView",
            "description": "",
            "description_tooltip": null,
            "layout": "IPY_MODEL_a5135ee762fd455283f62929044e12ee",
            "placeholder": "​",
            "style": "IPY_MODEL_a7cd44497ad74a2ea16ff92003ab6597",
            "value": " 101/101 [00:07&lt;00:00, 13.91it/s]"
          }
        },
        "0142a153536c41eaaa390f74e93e1190": {
          "model_module": "@jupyter-widgets/base",
          "model_name": "LayoutModel",
          "model_module_version": "1.2.0",
          "state": {
            "_model_module": "@jupyter-widgets/base",
            "_model_module_version": "1.2.0",
            "_model_name": "LayoutModel",
            "_view_count": null,
            "_view_module": "@jupyter-widgets/base",
            "_view_module_version": "1.2.0",
            "_view_name": "LayoutView",
            "align_content": null,
            "align_items": null,
            "align_self": null,
            "border": null,
            "bottom": null,
            "display": null,
            "flex": null,
            "flex_flow": null,
            "grid_area": null,
            "grid_auto_columns": null,
            "grid_auto_flow": null,
            "grid_auto_rows": null,
            "grid_column": null,
            "grid_gap": null,
            "grid_row": null,
            "grid_template_areas": null,
            "grid_template_columns": null,
            "grid_template_rows": null,
            "height": null,
            "justify_content": null,
            "justify_items": null,
            "left": null,
            "margin": null,
            "max_height": null,
            "max_width": null,
            "min_height": null,
            "min_width": null,
            "object_fit": null,
            "object_position": null,
            "order": null,
            "overflow": null,
            "overflow_x": null,
            "overflow_y": null,
            "padding": null,
            "right": null,
            "top": null,
            "visibility": "hidden",
            "width": null
          }
        },
        "3182fde0ddfa4c85ad2c3d7b3366f450": {
          "model_module": "@jupyter-widgets/base",
          "model_name": "LayoutModel",
          "model_module_version": "1.2.0",
          "state": {
            "_model_module": "@jupyter-widgets/base",
            "_model_module_version": "1.2.0",
            "_model_name": "LayoutModel",
            "_view_count": null,
            "_view_module": "@jupyter-widgets/base",
            "_view_module_version": "1.2.0",
            "_view_name": "LayoutView",
            "align_content": null,
            "align_items": null,
            "align_self": null,
            "border": null,
            "bottom": null,
            "display": null,
            "flex": null,
            "flex_flow": null,
            "grid_area": null,
            "grid_auto_columns": null,
            "grid_auto_flow": null,
            "grid_auto_rows": null,
            "grid_column": null,
            "grid_gap": null,
            "grid_row": null,
            "grid_template_areas": null,
            "grid_template_columns": null,
            "grid_template_rows": null,
            "height": null,
            "justify_content": null,
            "justify_items": null,
            "left": null,
            "margin": null,
            "max_height": null,
            "max_width": null,
            "min_height": null,
            "min_width": null,
            "object_fit": null,
            "object_position": null,
            "order": null,
            "overflow": null,
            "overflow_x": null,
            "overflow_y": null,
            "padding": null,
            "right": null,
            "top": null,
            "visibility": null,
            "width": null
          }
        },
        "a02f14d24f1e4882b10b685c0c2fafe3": {
          "model_module": "@jupyter-widgets/controls",
          "model_name": "DescriptionStyleModel",
          "model_module_version": "1.5.0",
          "state": {
            "_model_module": "@jupyter-widgets/controls",
            "_model_module_version": "1.5.0",
            "_model_name": "DescriptionStyleModel",
            "_view_count": null,
            "_view_module": "@jupyter-widgets/base",
            "_view_module_version": "1.2.0",
            "_view_name": "StyleView",
            "description_width": ""
          }
        },
        "1d4313dc9274491ca6efb0469e9cfaee": {
          "model_module": "@jupyter-widgets/base",
          "model_name": "LayoutModel",
          "model_module_version": "1.2.0",
          "state": {
            "_model_module": "@jupyter-widgets/base",
            "_model_module_version": "1.2.0",
            "_model_name": "LayoutModel",
            "_view_count": null,
            "_view_module": "@jupyter-widgets/base",
            "_view_module_version": "1.2.0",
            "_view_name": "LayoutView",
            "align_content": null,
            "align_items": null,
            "align_self": null,
            "border": null,
            "bottom": null,
            "display": null,
            "flex": null,
            "flex_flow": null,
            "grid_area": null,
            "grid_auto_columns": null,
            "grid_auto_flow": null,
            "grid_auto_rows": null,
            "grid_column": null,
            "grid_gap": null,
            "grid_row": null,
            "grid_template_areas": null,
            "grid_template_columns": null,
            "grid_template_rows": null,
            "height": null,
            "justify_content": null,
            "justify_items": null,
            "left": null,
            "margin": null,
            "max_height": null,
            "max_width": null,
            "min_height": null,
            "min_width": null,
            "object_fit": null,
            "object_position": null,
            "order": null,
            "overflow": null,
            "overflow_x": null,
            "overflow_y": null,
            "padding": null,
            "right": null,
            "top": null,
            "visibility": null,
            "width": null
          }
        },
        "ce39c5a082f14847ba3ec71ec6d4abda": {
          "model_module": "@jupyter-widgets/controls",
          "model_name": "ProgressStyleModel",
          "model_module_version": "1.5.0",
          "state": {
            "_model_module": "@jupyter-widgets/controls",
            "_model_module_version": "1.5.0",
            "_model_name": "ProgressStyleModel",
            "_view_count": null,
            "_view_module": "@jupyter-widgets/base",
            "_view_module_version": "1.2.0",
            "_view_name": "StyleView",
            "bar_color": null,
            "description_width": ""
          }
        },
        "a5135ee762fd455283f62929044e12ee": {
          "model_module": "@jupyter-widgets/base",
          "model_name": "LayoutModel",
          "model_module_version": "1.2.0",
          "state": {
            "_model_module": "@jupyter-widgets/base",
            "_model_module_version": "1.2.0",
            "_model_name": "LayoutModel",
            "_view_count": null,
            "_view_module": "@jupyter-widgets/base",
            "_view_module_version": "1.2.0",
            "_view_name": "LayoutView",
            "align_content": null,
            "align_items": null,
            "align_self": null,
            "border": null,
            "bottom": null,
            "display": null,
            "flex": null,
            "flex_flow": null,
            "grid_area": null,
            "grid_auto_columns": null,
            "grid_auto_flow": null,
            "grid_auto_rows": null,
            "grid_column": null,
            "grid_gap": null,
            "grid_row": null,
            "grid_template_areas": null,
            "grid_template_columns": null,
            "grid_template_rows": null,
            "height": null,
            "justify_content": null,
            "justify_items": null,
            "left": null,
            "margin": null,
            "max_height": null,
            "max_width": null,
            "min_height": null,
            "min_width": null,
            "object_fit": null,
            "object_position": null,
            "order": null,
            "overflow": null,
            "overflow_x": null,
            "overflow_y": null,
            "padding": null,
            "right": null,
            "top": null,
            "visibility": null,
            "width": null
          }
        },
        "a7cd44497ad74a2ea16ff92003ab6597": {
          "model_module": "@jupyter-widgets/controls",
          "model_name": "DescriptionStyleModel",
          "model_module_version": "1.5.0",
          "state": {
            "_model_module": "@jupyter-widgets/controls",
            "_model_module_version": "1.5.0",
            "_model_name": "DescriptionStyleModel",
            "_view_count": null,
            "_view_module": "@jupyter-widgets/base",
            "_view_module_version": "1.2.0",
            "_view_name": "StyleView",
            "description_width": ""
          }
        },
        "72eb5fe81fc14f2c8c4618e0e055c6cf": {
          "model_module": "@jupyter-widgets/controls",
          "model_name": "HBoxModel",
          "model_module_version": "1.5.0",
          "state": {
            "_dom_classes": [],
            "_model_module": "@jupyter-widgets/controls",
            "_model_module_version": "1.5.0",
            "_model_name": "HBoxModel",
            "_view_count": null,
            "_view_module": "@jupyter-widgets/controls",
            "_view_module_version": "1.5.0",
            "_view_name": "HBoxView",
            "box_style": "",
            "children": [
              "IPY_MODEL_c989897bd9914beda3f27209214eef69",
              "IPY_MODEL_c2a76d013efe4129a8fc3f82b2644e81",
              "IPY_MODEL_5755c2e74dd940f8a8bfa5bf9af9497b"
            ],
            "layout": "IPY_MODEL_86108a35262e46bf9896871ac1d31479"
          }
        },
        "c989897bd9914beda3f27209214eef69": {
          "model_module": "@jupyter-widgets/controls",
          "model_name": "HTMLModel",
          "model_module_version": "1.5.0",
          "state": {
            "_dom_classes": [],
            "_model_module": "@jupyter-widgets/controls",
            "_model_module_version": "1.5.0",
            "_model_name": "HTMLModel",
            "_view_count": null,
            "_view_module": "@jupyter-widgets/controls",
            "_view_module_version": "1.5.0",
            "_view_name": "HTMLView",
            "description": "",
            "description_tooltip": null,
            "layout": "IPY_MODEL_3c3ad0e219304067b25d1af4b2f7b8a8",
            "placeholder": "​",
            "style": "IPY_MODEL_5dd5177a62b54c6baf2a252dc294da30",
            "value": "Inner: 100%"
          }
        },
        "c2a76d013efe4129a8fc3f82b2644e81": {
          "model_module": "@jupyter-widgets/controls",
          "model_name": "FloatProgressModel",
          "model_module_version": "1.5.0",
          "state": {
            "_dom_classes": [],
            "_model_module": "@jupyter-widgets/controls",
            "_model_module_version": "1.5.0",
            "_model_name": "FloatProgressModel",
            "_view_count": null,
            "_view_module": "@jupyter-widgets/controls",
            "_view_module_version": "1.5.0",
            "_view_name": "ProgressView",
            "bar_style": "",
            "description": "",
            "description_tooltip": null,
            "layout": "IPY_MODEL_7d817a1ae49443a2bb53a60733d91aa7",
            "max": 101,
            "min": 0,
            "orientation": "horizontal",
            "style": "IPY_MODEL_4ecfdb4d2c0044489014952b56acfe6d",
            "value": 101
          }
        },
        "5755c2e74dd940f8a8bfa5bf9af9497b": {
          "model_module": "@jupyter-widgets/controls",
          "model_name": "HTMLModel",
          "model_module_version": "1.5.0",
          "state": {
            "_dom_classes": [],
            "_model_module": "@jupyter-widgets/controls",
            "_model_module_version": "1.5.0",
            "_model_name": "HTMLModel",
            "_view_count": null,
            "_view_module": "@jupyter-widgets/controls",
            "_view_module_version": "1.5.0",
            "_view_name": "HTMLView",
            "description": "",
            "description_tooltip": null,
            "layout": "IPY_MODEL_25148cf063684296a1443c777fd1fc28",
            "placeholder": "​",
            "style": "IPY_MODEL_acf5fefa13374714b955657f7956a92e",
            "value": " 101/101 [00:08&lt;00:00, 12.37it/s]"
          }
        },
        "86108a35262e46bf9896871ac1d31479": {
          "model_module": "@jupyter-widgets/base",
          "model_name": "LayoutModel",
          "model_module_version": "1.2.0",
          "state": {
            "_model_module": "@jupyter-widgets/base",
            "_model_module_version": "1.2.0",
            "_model_name": "LayoutModel",
            "_view_count": null,
            "_view_module": "@jupyter-widgets/base",
            "_view_module_version": "1.2.0",
            "_view_name": "LayoutView",
            "align_content": null,
            "align_items": null,
            "align_self": null,
            "border": null,
            "bottom": null,
            "display": null,
            "flex": null,
            "flex_flow": null,
            "grid_area": null,
            "grid_auto_columns": null,
            "grid_auto_flow": null,
            "grid_auto_rows": null,
            "grid_column": null,
            "grid_gap": null,
            "grid_row": null,
            "grid_template_areas": null,
            "grid_template_columns": null,
            "grid_template_rows": null,
            "height": null,
            "justify_content": null,
            "justify_items": null,
            "left": null,
            "margin": null,
            "max_height": null,
            "max_width": null,
            "min_height": null,
            "min_width": null,
            "object_fit": null,
            "object_position": null,
            "order": null,
            "overflow": null,
            "overflow_x": null,
            "overflow_y": null,
            "padding": null,
            "right": null,
            "top": null,
            "visibility": "hidden",
            "width": null
          }
        },
        "3c3ad0e219304067b25d1af4b2f7b8a8": {
          "model_module": "@jupyter-widgets/base",
          "model_name": "LayoutModel",
          "model_module_version": "1.2.0",
          "state": {
            "_model_module": "@jupyter-widgets/base",
            "_model_module_version": "1.2.0",
            "_model_name": "LayoutModel",
            "_view_count": null,
            "_view_module": "@jupyter-widgets/base",
            "_view_module_version": "1.2.0",
            "_view_name": "LayoutView",
            "align_content": null,
            "align_items": null,
            "align_self": null,
            "border": null,
            "bottom": null,
            "display": null,
            "flex": null,
            "flex_flow": null,
            "grid_area": null,
            "grid_auto_columns": null,
            "grid_auto_flow": null,
            "grid_auto_rows": null,
            "grid_column": null,
            "grid_gap": null,
            "grid_row": null,
            "grid_template_areas": null,
            "grid_template_columns": null,
            "grid_template_rows": null,
            "height": null,
            "justify_content": null,
            "justify_items": null,
            "left": null,
            "margin": null,
            "max_height": null,
            "max_width": null,
            "min_height": null,
            "min_width": null,
            "object_fit": null,
            "object_position": null,
            "order": null,
            "overflow": null,
            "overflow_x": null,
            "overflow_y": null,
            "padding": null,
            "right": null,
            "top": null,
            "visibility": null,
            "width": null
          }
        },
        "5dd5177a62b54c6baf2a252dc294da30": {
          "model_module": "@jupyter-widgets/controls",
          "model_name": "DescriptionStyleModel",
          "model_module_version": "1.5.0",
          "state": {
            "_model_module": "@jupyter-widgets/controls",
            "_model_module_version": "1.5.0",
            "_model_name": "DescriptionStyleModel",
            "_view_count": null,
            "_view_module": "@jupyter-widgets/base",
            "_view_module_version": "1.2.0",
            "_view_name": "StyleView",
            "description_width": ""
          }
        },
        "7d817a1ae49443a2bb53a60733d91aa7": {
          "model_module": "@jupyter-widgets/base",
          "model_name": "LayoutModel",
          "model_module_version": "1.2.0",
          "state": {
            "_model_module": "@jupyter-widgets/base",
            "_model_module_version": "1.2.0",
            "_model_name": "LayoutModel",
            "_view_count": null,
            "_view_module": "@jupyter-widgets/base",
            "_view_module_version": "1.2.0",
            "_view_name": "LayoutView",
            "align_content": null,
            "align_items": null,
            "align_self": null,
            "border": null,
            "bottom": null,
            "display": null,
            "flex": null,
            "flex_flow": null,
            "grid_area": null,
            "grid_auto_columns": null,
            "grid_auto_flow": null,
            "grid_auto_rows": null,
            "grid_column": null,
            "grid_gap": null,
            "grid_row": null,
            "grid_template_areas": null,
            "grid_template_columns": null,
            "grid_template_rows": null,
            "height": null,
            "justify_content": null,
            "justify_items": null,
            "left": null,
            "margin": null,
            "max_height": null,
            "max_width": null,
            "min_height": null,
            "min_width": null,
            "object_fit": null,
            "object_position": null,
            "order": null,
            "overflow": null,
            "overflow_x": null,
            "overflow_y": null,
            "padding": null,
            "right": null,
            "top": null,
            "visibility": null,
            "width": null
          }
        },
        "4ecfdb4d2c0044489014952b56acfe6d": {
          "model_module": "@jupyter-widgets/controls",
          "model_name": "ProgressStyleModel",
          "model_module_version": "1.5.0",
          "state": {
            "_model_module": "@jupyter-widgets/controls",
            "_model_module_version": "1.5.0",
            "_model_name": "ProgressStyleModel",
            "_view_count": null,
            "_view_module": "@jupyter-widgets/base",
            "_view_module_version": "1.2.0",
            "_view_name": "StyleView",
            "bar_color": null,
            "description_width": ""
          }
        },
        "25148cf063684296a1443c777fd1fc28": {
          "model_module": "@jupyter-widgets/base",
          "model_name": "LayoutModel",
          "model_module_version": "1.2.0",
          "state": {
            "_model_module": "@jupyter-widgets/base",
            "_model_module_version": "1.2.0",
            "_model_name": "LayoutModel",
            "_view_count": null,
            "_view_module": "@jupyter-widgets/base",
            "_view_module_version": "1.2.0",
            "_view_name": "LayoutView",
            "align_content": null,
            "align_items": null,
            "align_self": null,
            "border": null,
            "bottom": null,
            "display": null,
            "flex": null,
            "flex_flow": null,
            "grid_area": null,
            "grid_auto_columns": null,
            "grid_auto_flow": null,
            "grid_auto_rows": null,
            "grid_column": null,
            "grid_gap": null,
            "grid_row": null,
            "grid_template_areas": null,
            "grid_template_columns": null,
            "grid_template_rows": null,
            "height": null,
            "justify_content": null,
            "justify_items": null,
            "left": null,
            "margin": null,
            "max_height": null,
            "max_width": null,
            "min_height": null,
            "min_width": null,
            "object_fit": null,
            "object_position": null,
            "order": null,
            "overflow": null,
            "overflow_x": null,
            "overflow_y": null,
            "padding": null,
            "right": null,
            "top": null,
            "visibility": null,
            "width": null
          }
        },
        "acf5fefa13374714b955657f7956a92e": {
          "model_module": "@jupyter-widgets/controls",
          "model_name": "DescriptionStyleModel",
          "model_module_version": "1.5.0",
          "state": {
            "_model_module": "@jupyter-widgets/controls",
            "_model_module_version": "1.5.0",
            "_model_name": "DescriptionStyleModel",
            "_view_count": null,
            "_view_module": "@jupyter-widgets/base",
            "_view_module_version": "1.2.0",
            "_view_name": "StyleView",
            "description_width": ""
          }
        },
        "64bd3fe4cf4f43aa9d7f8cacb393a502": {
          "model_module": "@jupyter-widgets/controls",
          "model_name": "HBoxModel",
          "model_module_version": "1.5.0",
          "state": {
            "_dom_classes": [],
            "_model_module": "@jupyter-widgets/controls",
            "_model_module_version": "1.5.0",
            "_model_name": "HBoxModel",
            "_view_count": null,
            "_view_module": "@jupyter-widgets/controls",
            "_view_module_version": "1.5.0",
            "_view_name": "HBoxView",
            "box_style": "",
            "children": [
              "IPY_MODEL_d449e5317ac74054bd90554ffe54b99d",
              "IPY_MODEL_4b9aae9bec954cc69933fbf36e352c2a",
              "IPY_MODEL_27e9b11f2e5e40dfaeb949733c8af843"
            ],
            "layout": "IPY_MODEL_132ffbea469f44d08894f5c43262ed44"
          }
        },
        "d449e5317ac74054bd90554ffe54b99d": {
          "model_module": "@jupyter-widgets/controls",
          "model_name": "HTMLModel",
          "model_module_version": "1.5.0",
          "state": {
            "_dom_classes": [],
            "_model_module": "@jupyter-widgets/controls",
            "_model_module_version": "1.5.0",
            "_model_name": "HTMLModel",
            "_view_count": null,
            "_view_module": "@jupyter-widgets/controls",
            "_view_module_version": "1.5.0",
            "_view_name": "HTMLView",
            "description": "",
            "description_tooltip": null,
            "layout": "IPY_MODEL_0ab9d740f40d49b5839a217212389e06",
            "placeholder": "​",
            "style": "IPY_MODEL_d6f694dff028467ea312ef65652ed857",
            "value": "Inner: 100%"
          }
        },
        "4b9aae9bec954cc69933fbf36e352c2a": {
          "model_module": "@jupyter-widgets/controls",
          "model_name": "FloatProgressModel",
          "model_module_version": "1.5.0",
          "state": {
            "_dom_classes": [],
            "_model_module": "@jupyter-widgets/controls",
            "_model_module_version": "1.5.0",
            "_model_name": "FloatProgressModel",
            "_view_count": null,
            "_view_module": "@jupyter-widgets/controls",
            "_view_module_version": "1.5.0",
            "_view_name": "ProgressView",
            "bar_style": "",
            "description": "",
            "description_tooltip": null,
            "layout": "IPY_MODEL_3855704ca9e0433abedf737e721a07fc",
            "max": 101,
            "min": 0,
            "orientation": "horizontal",
            "style": "IPY_MODEL_d884dbb68d9e4ed5ac638d093fcb7875",
            "value": 101
          }
        },
        "27e9b11f2e5e40dfaeb949733c8af843": {
          "model_module": "@jupyter-widgets/controls",
          "model_name": "HTMLModel",
          "model_module_version": "1.5.0",
          "state": {
            "_dom_classes": [],
            "_model_module": "@jupyter-widgets/controls",
            "_model_module_version": "1.5.0",
            "_model_name": "HTMLModel",
            "_view_count": null,
            "_view_module": "@jupyter-widgets/controls",
            "_view_module_version": "1.5.0",
            "_view_name": "HTMLView",
            "description": "",
            "description_tooltip": null,
            "layout": "IPY_MODEL_2b382b405c234f789b8159c088193c97",
            "placeholder": "​",
            "style": "IPY_MODEL_65f1563f3c1c47a69b3d79b76bb93d4c",
            "value": " 101/101 [00:07&lt;00:00, 13.59it/s]"
          }
        },
        "132ffbea469f44d08894f5c43262ed44": {
          "model_module": "@jupyter-widgets/base",
          "model_name": "LayoutModel",
          "model_module_version": "1.2.0",
          "state": {
            "_model_module": "@jupyter-widgets/base",
            "_model_module_version": "1.2.0",
            "_model_name": "LayoutModel",
            "_view_count": null,
            "_view_module": "@jupyter-widgets/base",
            "_view_module_version": "1.2.0",
            "_view_name": "LayoutView",
            "align_content": null,
            "align_items": null,
            "align_self": null,
            "border": null,
            "bottom": null,
            "display": null,
            "flex": null,
            "flex_flow": null,
            "grid_area": null,
            "grid_auto_columns": null,
            "grid_auto_flow": null,
            "grid_auto_rows": null,
            "grid_column": null,
            "grid_gap": null,
            "grid_row": null,
            "grid_template_areas": null,
            "grid_template_columns": null,
            "grid_template_rows": null,
            "height": null,
            "justify_content": null,
            "justify_items": null,
            "left": null,
            "margin": null,
            "max_height": null,
            "max_width": null,
            "min_height": null,
            "min_width": null,
            "object_fit": null,
            "object_position": null,
            "order": null,
            "overflow": null,
            "overflow_x": null,
            "overflow_y": null,
            "padding": null,
            "right": null,
            "top": null,
            "visibility": "hidden",
            "width": null
          }
        },
        "0ab9d740f40d49b5839a217212389e06": {
          "model_module": "@jupyter-widgets/base",
          "model_name": "LayoutModel",
          "model_module_version": "1.2.0",
          "state": {
            "_model_module": "@jupyter-widgets/base",
            "_model_module_version": "1.2.0",
            "_model_name": "LayoutModel",
            "_view_count": null,
            "_view_module": "@jupyter-widgets/base",
            "_view_module_version": "1.2.0",
            "_view_name": "LayoutView",
            "align_content": null,
            "align_items": null,
            "align_self": null,
            "border": null,
            "bottom": null,
            "display": null,
            "flex": null,
            "flex_flow": null,
            "grid_area": null,
            "grid_auto_columns": null,
            "grid_auto_flow": null,
            "grid_auto_rows": null,
            "grid_column": null,
            "grid_gap": null,
            "grid_row": null,
            "grid_template_areas": null,
            "grid_template_columns": null,
            "grid_template_rows": null,
            "height": null,
            "justify_content": null,
            "justify_items": null,
            "left": null,
            "margin": null,
            "max_height": null,
            "max_width": null,
            "min_height": null,
            "min_width": null,
            "object_fit": null,
            "object_position": null,
            "order": null,
            "overflow": null,
            "overflow_x": null,
            "overflow_y": null,
            "padding": null,
            "right": null,
            "top": null,
            "visibility": null,
            "width": null
          }
        },
        "d6f694dff028467ea312ef65652ed857": {
          "model_module": "@jupyter-widgets/controls",
          "model_name": "DescriptionStyleModel",
          "model_module_version": "1.5.0",
          "state": {
            "_model_module": "@jupyter-widgets/controls",
            "_model_module_version": "1.5.0",
            "_model_name": "DescriptionStyleModel",
            "_view_count": null,
            "_view_module": "@jupyter-widgets/base",
            "_view_module_version": "1.2.0",
            "_view_name": "StyleView",
            "description_width": ""
          }
        },
        "3855704ca9e0433abedf737e721a07fc": {
          "model_module": "@jupyter-widgets/base",
          "model_name": "LayoutModel",
          "model_module_version": "1.2.0",
          "state": {
            "_model_module": "@jupyter-widgets/base",
            "_model_module_version": "1.2.0",
            "_model_name": "LayoutModel",
            "_view_count": null,
            "_view_module": "@jupyter-widgets/base",
            "_view_module_version": "1.2.0",
            "_view_name": "LayoutView",
            "align_content": null,
            "align_items": null,
            "align_self": null,
            "border": null,
            "bottom": null,
            "display": null,
            "flex": null,
            "flex_flow": null,
            "grid_area": null,
            "grid_auto_columns": null,
            "grid_auto_flow": null,
            "grid_auto_rows": null,
            "grid_column": null,
            "grid_gap": null,
            "grid_row": null,
            "grid_template_areas": null,
            "grid_template_columns": null,
            "grid_template_rows": null,
            "height": null,
            "justify_content": null,
            "justify_items": null,
            "left": null,
            "margin": null,
            "max_height": null,
            "max_width": null,
            "min_height": null,
            "min_width": null,
            "object_fit": null,
            "object_position": null,
            "order": null,
            "overflow": null,
            "overflow_x": null,
            "overflow_y": null,
            "padding": null,
            "right": null,
            "top": null,
            "visibility": null,
            "width": null
          }
        },
        "d884dbb68d9e4ed5ac638d093fcb7875": {
          "model_module": "@jupyter-widgets/controls",
          "model_name": "ProgressStyleModel",
          "model_module_version": "1.5.0",
          "state": {
            "_model_module": "@jupyter-widgets/controls",
            "_model_module_version": "1.5.0",
            "_model_name": "ProgressStyleModel",
            "_view_count": null,
            "_view_module": "@jupyter-widgets/base",
            "_view_module_version": "1.2.0",
            "_view_name": "StyleView",
            "bar_color": null,
            "description_width": ""
          }
        },
        "2b382b405c234f789b8159c088193c97": {
          "model_module": "@jupyter-widgets/base",
          "model_name": "LayoutModel",
          "model_module_version": "1.2.0",
          "state": {
            "_model_module": "@jupyter-widgets/base",
            "_model_module_version": "1.2.0",
            "_model_name": "LayoutModel",
            "_view_count": null,
            "_view_module": "@jupyter-widgets/base",
            "_view_module_version": "1.2.0",
            "_view_name": "LayoutView",
            "align_content": null,
            "align_items": null,
            "align_self": null,
            "border": null,
            "bottom": null,
            "display": null,
            "flex": null,
            "flex_flow": null,
            "grid_area": null,
            "grid_auto_columns": null,
            "grid_auto_flow": null,
            "grid_auto_rows": null,
            "grid_column": null,
            "grid_gap": null,
            "grid_row": null,
            "grid_template_areas": null,
            "grid_template_columns": null,
            "grid_template_rows": null,
            "height": null,
            "justify_content": null,
            "justify_items": null,
            "left": null,
            "margin": null,
            "max_height": null,
            "max_width": null,
            "min_height": null,
            "min_width": null,
            "object_fit": null,
            "object_position": null,
            "order": null,
            "overflow": null,
            "overflow_x": null,
            "overflow_y": null,
            "padding": null,
            "right": null,
            "top": null,
            "visibility": null,
            "width": null
          }
        },
        "65f1563f3c1c47a69b3d79b76bb93d4c": {
          "model_module": "@jupyter-widgets/controls",
          "model_name": "DescriptionStyleModel",
          "model_module_version": "1.5.0",
          "state": {
            "_model_module": "@jupyter-widgets/controls",
            "_model_module_version": "1.5.0",
            "_model_name": "DescriptionStyleModel",
            "_view_count": null,
            "_view_module": "@jupyter-widgets/base",
            "_view_module_version": "1.2.0",
            "_view_name": "StyleView",
            "description_width": ""
          }
        },
        "5cc8f419cee84fa7b461b618bbcecc61": {
          "model_module": "@jupyter-widgets/controls",
          "model_name": "HBoxModel",
          "model_module_version": "1.5.0",
          "state": {
            "_dom_classes": [],
            "_model_module": "@jupyter-widgets/controls",
            "_model_module_version": "1.5.0",
            "_model_name": "HBoxModel",
            "_view_count": null,
            "_view_module": "@jupyter-widgets/controls",
            "_view_module_version": "1.5.0",
            "_view_name": "HBoxView",
            "box_style": "",
            "children": [
              "IPY_MODEL_552404f44fe54de791d8b7278d641297",
              "IPY_MODEL_e7972c0c1f07420cb3c4e1fbbceab30b",
              "IPY_MODEL_aa5026c6ff754964ab14f1a7a2d06205"
            ],
            "layout": "IPY_MODEL_ca34c2cfeba8406eaad10e79d35aec2b"
          }
        },
        "552404f44fe54de791d8b7278d641297": {
          "model_module": "@jupyter-widgets/controls",
          "model_name": "HTMLModel",
          "model_module_version": "1.5.0",
          "state": {
            "_dom_classes": [],
            "_model_module": "@jupyter-widgets/controls",
            "_model_module_version": "1.5.0",
            "_model_name": "HTMLModel",
            "_view_count": null,
            "_view_module": "@jupyter-widgets/controls",
            "_view_module_version": "1.5.0",
            "_view_name": "HTMLView",
            "description": "",
            "description_tooltip": null,
            "layout": "IPY_MODEL_f73c1a85133e4c108abfb719138b7f58",
            "placeholder": "​",
            "style": "IPY_MODEL_c4c9dfb8eb83491a8ce867f9bea2a279",
            "value": "Inner:  99%"
          }
        },
        "e7972c0c1f07420cb3c4e1fbbceab30b": {
          "model_module": "@jupyter-widgets/controls",
          "model_name": "FloatProgressModel",
          "model_module_version": "1.5.0",
          "state": {
            "_dom_classes": [],
            "_model_module": "@jupyter-widgets/controls",
            "_model_module_version": "1.5.0",
            "_model_name": "FloatProgressModel",
            "_view_count": null,
            "_view_module": "@jupyter-widgets/controls",
            "_view_module_version": "1.5.0",
            "_view_name": "ProgressView",
            "bar_style": "",
            "description": "",
            "description_tooltip": null,
            "layout": "IPY_MODEL_3dd02718c9354b1c83ef5d7a88ebb520",
            "max": 101,
            "min": 0,
            "orientation": "horizontal",
            "style": "IPY_MODEL_4e240c8501d44bac903e18c5c7f66613",
            "value": 101
          }
        },
        "aa5026c6ff754964ab14f1a7a2d06205": {
          "model_module": "@jupyter-widgets/controls",
          "model_name": "HTMLModel",
          "model_module_version": "1.5.0",
          "state": {
            "_dom_classes": [],
            "_model_module": "@jupyter-widgets/controls",
            "_model_module_version": "1.5.0",
            "_model_name": "HTMLModel",
            "_view_count": null,
            "_view_module": "@jupyter-widgets/controls",
            "_view_module_version": "1.5.0",
            "_view_name": "HTMLView",
            "description": "",
            "description_tooltip": null,
            "layout": "IPY_MODEL_21f4f31fa04e4ebfbd20b9af4ae5dedf",
            "placeholder": "​",
            "style": "IPY_MODEL_0b8416dee3254d18af3c8a121b596040",
            "value": " 100/101 [00:10&lt;00:00, 11.55it/s]"
          }
        },
        "ca34c2cfeba8406eaad10e79d35aec2b": {
          "model_module": "@jupyter-widgets/base",
          "model_name": "LayoutModel",
          "model_module_version": "1.2.0",
          "state": {
            "_model_module": "@jupyter-widgets/base",
            "_model_module_version": "1.2.0",
            "_model_name": "LayoutModel",
            "_view_count": null,
            "_view_module": "@jupyter-widgets/base",
            "_view_module_version": "1.2.0",
            "_view_name": "LayoutView",
            "align_content": null,
            "align_items": null,
            "align_self": null,
            "border": null,
            "bottom": null,
            "display": null,
            "flex": null,
            "flex_flow": null,
            "grid_area": null,
            "grid_auto_columns": null,
            "grid_auto_flow": null,
            "grid_auto_rows": null,
            "grid_column": null,
            "grid_gap": null,
            "grid_row": null,
            "grid_template_areas": null,
            "grid_template_columns": null,
            "grid_template_rows": null,
            "height": null,
            "justify_content": null,
            "justify_items": null,
            "left": null,
            "margin": null,
            "max_height": null,
            "max_width": null,
            "min_height": null,
            "min_width": null,
            "object_fit": null,
            "object_position": null,
            "order": null,
            "overflow": null,
            "overflow_x": null,
            "overflow_y": null,
            "padding": null,
            "right": null,
            "top": null,
            "visibility": "hidden",
            "width": null
          }
        },
        "f73c1a85133e4c108abfb719138b7f58": {
          "model_module": "@jupyter-widgets/base",
          "model_name": "LayoutModel",
          "model_module_version": "1.2.0",
          "state": {
            "_model_module": "@jupyter-widgets/base",
            "_model_module_version": "1.2.0",
            "_model_name": "LayoutModel",
            "_view_count": null,
            "_view_module": "@jupyter-widgets/base",
            "_view_module_version": "1.2.0",
            "_view_name": "LayoutView",
            "align_content": null,
            "align_items": null,
            "align_self": null,
            "border": null,
            "bottom": null,
            "display": null,
            "flex": null,
            "flex_flow": null,
            "grid_area": null,
            "grid_auto_columns": null,
            "grid_auto_flow": null,
            "grid_auto_rows": null,
            "grid_column": null,
            "grid_gap": null,
            "grid_row": null,
            "grid_template_areas": null,
            "grid_template_columns": null,
            "grid_template_rows": null,
            "height": null,
            "justify_content": null,
            "justify_items": null,
            "left": null,
            "margin": null,
            "max_height": null,
            "max_width": null,
            "min_height": null,
            "min_width": null,
            "object_fit": null,
            "object_position": null,
            "order": null,
            "overflow": null,
            "overflow_x": null,
            "overflow_y": null,
            "padding": null,
            "right": null,
            "top": null,
            "visibility": null,
            "width": null
          }
        },
        "c4c9dfb8eb83491a8ce867f9bea2a279": {
          "model_module": "@jupyter-widgets/controls",
          "model_name": "DescriptionStyleModel",
          "model_module_version": "1.5.0",
          "state": {
            "_model_module": "@jupyter-widgets/controls",
            "_model_module_version": "1.5.0",
            "_model_name": "DescriptionStyleModel",
            "_view_count": null,
            "_view_module": "@jupyter-widgets/base",
            "_view_module_version": "1.2.0",
            "_view_name": "StyleView",
            "description_width": ""
          }
        },
        "3dd02718c9354b1c83ef5d7a88ebb520": {
          "model_module": "@jupyter-widgets/base",
          "model_name": "LayoutModel",
          "model_module_version": "1.2.0",
          "state": {
            "_model_module": "@jupyter-widgets/base",
            "_model_module_version": "1.2.0",
            "_model_name": "LayoutModel",
            "_view_count": null,
            "_view_module": "@jupyter-widgets/base",
            "_view_module_version": "1.2.0",
            "_view_name": "LayoutView",
            "align_content": null,
            "align_items": null,
            "align_self": null,
            "border": null,
            "bottom": null,
            "display": null,
            "flex": null,
            "flex_flow": null,
            "grid_area": null,
            "grid_auto_columns": null,
            "grid_auto_flow": null,
            "grid_auto_rows": null,
            "grid_column": null,
            "grid_gap": null,
            "grid_row": null,
            "grid_template_areas": null,
            "grid_template_columns": null,
            "grid_template_rows": null,
            "height": null,
            "justify_content": null,
            "justify_items": null,
            "left": null,
            "margin": null,
            "max_height": null,
            "max_width": null,
            "min_height": null,
            "min_width": null,
            "object_fit": null,
            "object_position": null,
            "order": null,
            "overflow": null,
            "overflow_x": null,
            "overflow_y": null,
            "padding": null,
            "right": null,
            "top": null,
            "visibility": null,
            "width": null
          }
        },
        "4e240c8501d44bac903e18c5c7f66613": {
          "model_module": "@jupyter-widgets/controls",
          "model_name": "ProgressStyleModel",
          "model_module_version": "1.5.0",
          "state": {
            "_model_module": "@jupyter-widgets/controls",
            "_model_module_version": "1.5.0",
            "_model_name": "ProgressStyleModel",
            "_view_count": null,
            "_view_module": "@jupyter-widgets/base",
            "_view_module_version": "1.2.0",
            "_view_name": "StyleView",
            "bar_color": null,
            "description_width": ""
          }
        },
        "21f4f31fa04e4ebfbd20b9af4ae5dedf": {
          "model_module": "@jupyter-widgets/base",
          "model_name": "LayoutModel",
          "model_module_version": "1.2.0",
          "state": {
            "_model_module": "@jupyter-widgets/base",
            "_model_module_version": "1.2.0",
            "_model_name": "LayoutModel",
            "_view_count": null,
            "_view_module": "@jupyter-widgets/base",
            "_view_module_version": "1.2.0",
            "_view_name": "LayoutView",
            "align_content": null,
            "align_items": null,
            "align_self": null,
            "border": null,
            "bottom": null,
            "display": null,
            "flex": null,
            "flex_flow": null,
            "grid_area": null,
            "grid_auto_columns": null,
            "grid_auto_flow": null,
            "grid_auto_rows": null,
            "grid_column": null,
            "grid_gap": null,
            "grid_row": null,
            "grid_template_areas": null,
            "grid_template_columns": null,
            "grid_template_rows": null,
            "height": null,
            "justify_content": null,
            "justify_items": null,
            "left": null,
            "margin": null,
            "max_height": null,
            "max_width": null,
            "min_height": null,
            "min_width": null,
            "object_fit": null,
            "object_position": null,
            "order": null,
            "overflow": null,
            "overflow_x": null,
            "overflow_y": null,
            "padding": null,
            "right": null,
            "top": null,
            "visibility": null,
            "width": null
          }
        },
        "0b8416dee3254d18af3c8a121b596040": {
          "model_module": "@jupyter-widgets/controls",
          "model_name": "DescriptionStyleModel",
          "model_module_version": "1.5.0",
          "state": {
            "_model_module": "@jupyter-widgets/controls",
            "_model_module_version": "1.5.0",
            "_model_name": "DescriptionStyleModel",
            "_view_count": null,
            "_view_module": "@jupyter-widgets/base",
            "_view_module_version": "1.2.0",
            "_view_name": "StyleView",
            "description_width": ""
          }
        },
        "696de6ba637c4002b3ca957f48674881": {
          "model_module": "@jupyter-widgets/controls",
          "model_name": "HBoxModel",
          "model_module_version": "1.5.0",
          "state": {
            "_dom_classes": [],
            "_model_module": "@jupyter-widgets/controls",
            "_model_module_version": "1.5.0",
            "_model_name": "HBoxModel",
            "_view_count": null,
            "_view_module": "@jupyter-widgets/controls",
            "_view_module_version": "1.5.0",
            "_view_name": "HBoxView",
            "box_style": "",
            "children": [
              "IPY_MODEL_a043e892caa64576aeacabda55b5a6e5",
              "IPY_MODEL_feb7917b5eac4c06b911f0a44117edcf",
              "IPY_MODEL_a2a152b953a545759b0d35d2a860cdcd"
            ],
            "layout": "IPY_MODEL_48129581af8c4a5b8c0a6d229d7d7474"
          }
        },
        "a043e892caa64576aeacabda55b5a6e5": {
          "model_module": "@jupyter-widgets/controls",
          "model_name": "HTMLModel",
          "model_module_version": "1.5.0",
          "state": {
            "_dom_classes": [],
            "_model_module": "@jupyter-widgets/controls",
            "_model_module_version": "1.5.0",
            "_model_name": "HTMLModel",
            "_view_count": null,
            "_view_module": "@jupyter-widgets/controls",
            "_view_module_version": "1.5.0",
            "_view_name": "HTMLView",
            "description": "",
            "description_tooltip": null,
            "layout": "IPY_MODEL_30bc50a521a7416fb6d0e1af7b6f42f7",
            "placeholder": "​",
            "style": "IPY_MODEL_87f1fda3af4342cab87aa36098176248",
            "value": "Inner: 100%"
          }
        },
        "feb7917b5eac4c06b911f0a44117edcf": {
          "model_module": "@jupyter-widgets/controls",
          "model_name": "FloatProgressModel",
          "model_module_version": "1.5.0",
          "state": {
            "_dom_classes": [],
            "_model_module": "@jupyter-widgets/controls",
            "_model_module_version": "1.5.0",
            "_model_name": "FloatProgressModel",
            "_view_count": null,
            "_view_module": "@jupyter-widgets/controls",
            "_view_module_version": "1.5.0",
            "_view_name": "ProgressView",
            "bar_style": "",
            "description": "",
            "description_tooltip": null,
            "layout": "IPY_MODEL_52957c36bf0845c7b07dc8ac0c98c8ed",
            "max": 101,
            "min": 0,
            "orientation": "horizontal",
            "style": "IPY_MODEL_811e81f8a21446b5b4318d81c86b2223",
            "value": 101
          }
        },
        "a2a152b953a545759b0d35d2a860cdcd": {
          "model_module": "@jupyter-widgets/controls",
          "model_name": "HTMLModel",
          "model_module_version": "1.5.0",
          "state": {
            "_dom_classes": [],
            "_model_module": "@jupyter-widgets/controls",
            "_model_module_version": "1.5.0",
            "_model_name": "HTMLModel",
            "_view_count": null,
            "_view_module": "@jupyter-widgets/controls",
            "_view_module_version": "1.5.0",
            "_view_name": "HTMLView",
            "description": "",
            "description_tooltip": null,
            "layout": "IPY_MODEL_8c4d1743a9dd41b79938f8f5a36e5b4a",
            "placeholder": "​",
            "style": "IPY_MODEL_34f8211d51044e24a359aba1e14f8cbd",
            "value": " 101/101 [00:10&lt;00:00, 11.85it/s]"
          }
        },
        "48129581af8c4a5b8c0a6d229d7d7474": {
          "model_module": "@jupyter-widgets/base",
          "model_name": "LayoutModel",
          "model_module_version": "1.2.0",
          "state": {
            "_model_module": "@jupyter-widgets/base",
            "_model_module_version": "1.2.0",
            "_model_name": "LayoutModel",
            "_view_count": null,
            "_view_module": "@jupyter-widgets/base",
            "_view_module_version": "1.2.0",
            "_view_name": "LayoutView",
            "align_content": null,
            "align_items": null,
            "align_self": null,
            "border": null,
            "bottom": null,
            "display": null,
            "flex": null,
            "flex_flow": null,
            "grid_area": null,
            "grid_auto_columns": null,
            "grid_auto_flow": null,
            "grid_auto_rows": null,
            "grid_column": null,
            "grid_gap": null,
            "grid_row": null,
            "grid_template_areas": null,
            "grid_template_columns": null,
            "grid_template_rows": null,
            "height": null,
            "justify_content": null,
            "justify_items": null,
            "left": null,
            "margin": null,
            "max_height": null,
            "max_width": null,
            "min_height": null,
            "min_width": null,
            "object_fit": null,
            "object_position": null,
            "order": null,
            "overflow": null,
            "overflow_x": null,
            "overflow_y": null,
            "padding": null,
            "right": null,
            "top": null,
            "visibility": "hidden",
            "width": null
          }
        },
        "30bc50a521a7416fb6d0e1af7b6f42f7": {
          "model_module": "@jupyter-widgets/base",
          "model_name": "LayoutModel",
          "model_module_version": "1.2.0",
          "state": {
            "_model_module": "@jupyter-widgets/base",
            "_model_module_version": "1.2.0",
            "_model_name": "LayoutModel",
            "_view_count": null,
            "_view_module": "@jupyter-widgets/base",
            "_view_module_version": "1.2.0",
            "_view_name": "LayoutView",
            "align_content": null,
            "align_items": null,
            "align_self": null,
            "border": null,
            "bottom": null,
            "display": null,
            "flex": null,
            "flex_flow": null,
            "grid_area": null,
            "grid_auto_columns": null,
            "grid_auto_flow": null,
            "grid_auto_rows": null,
            "grid_column": null,
            "grid_gap": null,
            "grid_row": null,
            "grid_template_areas": null,
            "grid_template_columns": null,
            "grid_template_rows": null,
            "height": null,
            "justify_content": null,
            "justify_items": null,
            "left": null,
            "margin": null,
            "max_height": null,
            "max_width": null,
            "min_height": null,
            "min_width": null,
            "object_fit": null,
            "object_position": null,
            "order": null,
            "overflow": null,
            "overflow_x": null,
            "overflow_y": null,
            "padding": null,
            "right": null,
            "top": null,
            "visibility": null,
            "width": null
          }
        },
        "87f1fda3af4342cab87aa36098176248": {
          "model_module": "@jupyter-widgets/controls",
          "model_name": "DescriptionStyleModel",
          "model_module_version": "1.5.0",
          "state": {
            "_model_module": "@jupyter-widgets/controls",
            "_model_module_version": "1.5.0",
            "_model_name": "DescriptionStyleModel",
            "_view_count": null,
            "_view_module": "@jupyter-widgets/base",
            "_view_module_version": "1.2.0",
            "_view_name": "StyleView",
            "description_width": ""
          }
        },
        "52957c36bf0845c7b07dc8ac0c98c8ed": {
          "model_module": "@jupyter-widgets/base",
          "model_name": "LayoutModel",
          "model_module_version": "1.2.0",
          "state": {
            "_model_module": "@jupyter-widgets/base",
            "_model_module_version": "1.2.0",
            "_model_name": "LayoutModel",
            "_view_count": null,
            "_view_module": "@jupyter-widgets/base",
            "_view_module_version": "1.2.0",
            "_view_name": "LayoutView",
            "align_content": null,
            "align_items": null,
            "align_self": null,
            "border": null,
            "bottom": null,
            "display": null,
            "flex": null,
            "flex_flow": null,
            "grid_area": null,
            "grid_auto_columns": null,
            "grid_auto_flow": null,
            "grid_auto_rows": null,
            "grid_column": null,
            "grid_gap": null,
            "grid_row": null,
            "grid_template_areas": null,
            "grid_template_columns": null,
            "grid_template_rows": null,
            "height": null,
            "justify_content": null,
            "justify_items": null,
            "left": null,
            "margin": null,
            "max_height": null,
            "max_width": null,
            "min_height": null,
            "min_width": null,
            "object_fit": null,
            "object_position": null,
            "order": null,
            "overflow": null,
            "overflow_x": null,
            "overflow_y": null,
            "padding": null,
            "right": null,
            "top": null,
            "visibility": null,
            "width": null
          }
        },
        "811e81f8a21446b5b4318d81c86b2223": {
          "model_module": "@jupyter-widgets/controls",
          "model_name": "ProgressStyleModel",
          "model_module_version": "1.5.0",
          "state": {
            "_model_module": "@jupyter-widgets/controls",
            "_model_module_version": "1.5.0",
            "_model_name": "ProgressStyleModel",
            "_view_count": null,
            "_view_module": "@jupyter-widgets/base",
            "_view_module_version": "1.2.0",
            "_view_name": "StyleView",
            "bar_color": null,
            "description_width": ""
          }
        },
        "8c4d1743a9dd41b79938f8f5a36e5b4a": {
          "model_module": "@jupyter-widgets/base",
          "model_name": "LayoutModel",
          "model_module_version": "1.2.0",
          "state": {
            "_model_module": "@jupyter-widgets/base",
            "_model_module_version": "1.2.0",
            "_model_name": "LayoutModel",
            "_view_count": null,
            "_view_module": "@jupyter-widgets/base",
            "_view_module_version": "1.2.0",
            "_view_name": "LayoutView",
            "align_content": null,
            "align_items": null,
            "align_self": null,
            "border": null,
            "bottom": null,
            "display": null,
            "flex": null,
            "flex_flow": null,
            "grid_area": null,
            "grid_auto_columns": null,
            "grid_auto_flow": null,
            "grid_auto_rows": null,
            "grid_column": null,
            "grid_gap": null,
            "grid_row": null,
            "grid_template_areas": null,
            "grid_template_columns": null,
            "grid_template_rows": null,
            "height": null,
            "justify_content": null,
            "justify_items": null,
            "left": null,
            "margin": null,
            "max_height": null,
            "max_width": null,
            "min_height": null,
            "min_width": null,
            "object_fit": null,
            "object_position": null,
            "order": null,
            "overflow": null,
            "overflow_x": null,
            "overflow_y": null,
            "padding": null,
            "right": null,
            "top": null,
            "visibility": null,
            "width": null
          }
        },
        "34f8211d51044e24a359aba1e14f8cbd": {
          "model_module": "@jupyter-widgets/controls",
          "model_name": "DescriptionStyleModel",
          "model_module_version": "1.5.0",
          "state": {
            "_model_module": "@jupyter-widgets/controls",
            "_model_module_version": "1.5.0",
            "_model_name": "DescriptionStyleModel",
            "_view_count": null,
            "_view_module": "@jupyter-widgets/base",
            "_view_module_version": "1.2.0",
            "_view_name": "StyleView",
            "description_width": ""
          }
        },
        "4bf5a18fa4674321ac52ffbf5632f878": {
          "model_module": "@jupyter-widgets/controls",
          "model_name": "HBoxModel",
          "model_module_version": "1.5.0",
          "state": {
            "_dom_classes": [],
            "_model_module": "@jupyter-widgets/controls",
            "_model_module_version": "1.5.0",
            "_model_name": "HBoxModel",
            "_view_count": null,
            "_view_module": "@jupyter-widgets/controls",
            "_view_module_version": "1.5.0",
            "_view_name": "HBoxView",
            "box_style": "",
            "children": [
              "IPY_MODEL_fae8101f67a14c2aaf2131b04126ff8c",
              "IPY_MODEL_aaefc3bd72c945d5909b02356d343744",
              "IPY_MODEL_d6ff516306ea4d4f8b7e8ab8fe5e72d6"
            ],
            "layout": "IPY_MODEL_260752e4164046eba154f538105e5bb9"
          }
        },
        "fae8101f67a14c2aaf2131b04126ff8c": {
          "model_module": "@jupyter-widgets/controls",
          "model_name": "HTMLModel",
          "model_module_version": "1.5.0",
          "state": {
            "_dom_classes": [],
            "_model_module": "@jupyter-widgets/controls",
            "_model_module_version": "1.5.0",
            "_model_name": "HTMLModel",
            "_view_count": null,
            "_view_module": "@jupyter-widgets/controls",
            "_view_module_version": "1.5.0",
            "_view_name": "HTMLView",
            "description": "",
            "description_tooltip": null,
            "layout": "IPY_MODEL_f9b0a50dcd5d4dfabd22a4492659f170",
            "placeholder": "​",
            "style": "IPY_MODEL_ac1c22b2806548a790206da78da784bd",
            "value": "Inner:  99%"
          }
        },
        "aaefc3bd72c945d5909b02356d343744": {
          "model_module": "@jupyter-widgets/controls",
          "model_name": "FloatProgressModel",
          "model_module_version": "1.5.0",
          "state": {
            "_dom_classes": [],
            "_model_module": "@jupyter-widgets/controls",
            "_model_module_version": "1.5.0",
            "_model_name": "FloatProgressModel",
            "_view_count": null,
            "_view_module": "@jupyter-widgets/controls",
            "_view_module_version": "1.5.0",
            "_view_name": "ProgressView",
            "bar_style": "",
            "description": "",
            "description_tooltip": null,
            "layout": "IPY_MODEL_11904731a30d4119915eb7efe877989b",
            "max": 101,
            "min": 0,
            "orientation": "horizontal",
            "style": "IPY_MODEL_e118f1faf28a4b29a6a22774d2d2cc9e",
            "value": 101
          }
        },
        "d6ff516306ea4d4f8b7e8ab8fe5e72d6": {
          "model_module": "@jupyter-widgets/controls",
          "model_name": "HTMLModel",
          "model_module_version": "1.5.0",
          "state": {
            "_dom_classes": [],
            "_model_module": "@jupyter-widgets/controls",
            "_model_module_version": "1.5.0",
            "_model_name": "HTMLModel",
            "_view_count": null,
            "_view_module": "@jupyter-widgets/controls",
            "_view_module_version": "1.5.0",
            "_view_name": "HTMLView",
            "description": "",
            "description_tooltip": null,
            "layout": "IPY_MODEL_93fdfa6f925e4d029f9c10ed12ed05ce",
            "placeholder": "​",
            "style": "IPY_MODEL_472774ddb5ee4806bd05ed38ad249856",
            "value": " 100/101 [00:08&lt;00:00, 12.35it/s]"
          }
        },
        "260752e4164046eba154f538105e5bb9": {
          "model_module": "@jupyter-widgets/base",
          "model_name": "LayoutModel",
          "model_module_version": "1.2.0",
          "state": {
            "_model_module": "@jupyter-widgets/base",
            "_model_module_version": "1.2.0",
            "_model_name": "LayoutModel",
            "_view_count": null,
            "_view_module": "@jupyter-widgets/base",
            "_view_module_version": "1.2.0",
            "_view_name": "LayoutView",
            "align_content": null,
            "align_items": null,
            "align_self": null,
            "border": null,
            "bottom": null,
            "display": null,
            "flex": null,
            "flex_flow": null,
            "grid_area": null,
            "grid_auto_columns": null,
            "grid_auto_flow": null,
            "grid_auto_rows": null,
            "grid_column": null,
            "grid_gap": null,
            "grid_row": null,
            "grid_template_areas": null,
            "grid_template_columns": null,
            "grid_template_rows": null,
            "height": null,
            "justify_content": null,
            "justify_items": null,
            "left": null,
            "margin": null,
            "max_height": null,
            "max_width": null,
            "min_height": null,
            "min_width": null,
            "object_fit": null,
            "object_position": null,
            "order": null,
            "overflow": null,
            "overflow_x": null,
            "overflow_y": null,
            "padding": null,
            "right": null,
            "top": null,
            "visibility": "hidden",
            "width": null
          }
        },
        "f9b0a50dcd5d4dfabd22a4492659f170": {
          "model_module": "@jupyter-widgets/base",
          "model_name": "LayoutModel",
          "model_module_version": "1.2.0",
          "state": {
            "_model_module": "@jupyter-widgets/base",
            "_model_module_version": "1.2.0",
            "_model_name": "LayoutModel",
            "_view_count": null,
            "_view_module": "@jupyter-widgets/base",
            "_view_module_version": "1.2.0",
            "_view_name": "LayoutView",
            "align_content": null,
            "align_items": null,
            "align_self": null,
            "border": null,
            "bottom": null,
            "display": null,
            "flex": null,
            "flex_flow": null,
            "grid_area": null,
            "grid_auto_columns": null,
            "grid_auto_flow": null,
            "grid_auto_rows": null,
            "grid_column": null,
            "grid_gap": null,
            "grid_row": null,
            "grid_template_areas": null,
            "grid_template_columns": null,
            "grid_template_rows": null,
            "height": null,
            "justify_content": null,
            "justify_items": null,
            "left": null,
            "margin": null,
            "max_height": null,
            "max_width": null,
            "min_height": null,
            "min_width": null,
            "object_fit": null,
            "object_position": null,
            "order": null,
            "overflow": null,
            "overflow_x": null,
            "overflow_y": null,
            "padding": null,
            "right": null,
            "top": null,
            "visibility": null,
            "width": null
          }
        },
        "ac1c22b2806548a790206da78da784bd": {
          "model_module": "@jupyter-widgets/controls",
          "model_name": "DescriptionStyleModel",
          "model_module_version": "1.5.0",
          "state": {
            "_model_module": "@jupyter-widgets/controls",
            "_model_module_version": "1.5.0",
            "_model_name": "DescriptionStyleModel",
            "_view_count": null,
            "_view_module": "@jupyter-widgets/base",
            "_view_module_version": "1.2.0",
            "_view_name": "StyleView",
            "description_width": ""
          }
        },
        "11904731a30d4119915eb7efe877989b": {
          "model_module": "@jupyter-widgets/base",
          "model_name": "LayoutModel",
          "model_module_version": "1.2.0",
          "state": {
            "_model_module": "@jupyter-widgets/base",
            "_model_module_version": "1.2.0",
            "_model_name": "LayoutModel",
            "_view_count": null,
            "_view_module": "@jupyter-widgets/base",
            "_view_module_version": "1.2.0",
            "_view_name": "LayoutView",
            "align_content": null,
            "align_items": null,
            "align_self": null,
            "border": null,
            "bottom": null,
            "display": null,
            "flex": null,
            "flex_flow": null,
            "grid_area": null,
            "grid_auto_columns": null,
            "grid_auto_flow": null,
            "grid_auto_rows": null,
            "grid_column": null,
            "grid_gap": null,
            "grid_row": null,
            "grid_template_areas": null,
            "grid_template_columns": null,
            "grid_template_rows": null,
            "height": null,
            "justify_content": null,
            "justify_items": null,
            "left": null,
            "margin": null,
            "max_height": null,
            "max_width": null,
            "min_height": null,
            "min_width": null,
            "object_fit": null,
            "object_position": null,
            "order": null,
            "overflow": null,
            "overflow_x": null,
            "overflow_y": null,
            "padding": null,
            "right": null,
            "top": null,
            "visibility": null,
            "width": null
          }
        },
        "e118f1faf28a4b29a6a22774d2d2cc9e": {
          "model_module": "@jupyter-widgets/controls",
          "model_name": "ProgressStyleModel",
          "model_module_version": "1.5.0",
          "state": {
            "_model_module": "@jupyter-widgets/controls",
            "_model_module_version": "1.5.0",
            "_model_name": "ProgressStyleModel",
            "_view_count": null,
            "_view_module": "@jupyter-widgets/base",
            "_view_module_version": "1.2.0",
            "_view_name": "StyleView",
            "bar_color": null,
            "description_width": ""
          }
        },
        "93fdfa6f925e4d029f9c10ed12ed05ce": {
          "model_module": "@jupyter-widgets/base",
          "model_name": "LayoutModel",
          "model_module_version": "1.2.0",
          "state": {
            "_model_module": "@jupyter-widgets/base",
            "_model_module_version": "1.2.0",
            "_model_name": "LayoutModel",
            "_view_count": null,
            "_view_module": "@jupyter-widgets/base",
            "_view_module_version": "1.2.0",
            "_view_name": "LayoutView",
            "align_content": null,
            "align_items": null,
            "align_self": null,
            "border": null,
            "bottom": null,
            "display": null,
            "flex": null,
            "flex_flow": null,
            "grid_area": null,
            "grid_auto_columns": null,
            "grid_auto_flow": null,
            "grid_auto_rows": null,
            "grid_column": null,
            "grid_gap": null,
            "grid_row": null,
            "grid_template_areas": null,
            "grid_template_columns": null,
            "grid_template_rows": null,
            "height": null,
            "justify_content": null,
            "justify_items": null,
            "left": null,
            "margin": null,
            "max_height": null,
            "max_width": null,
            "min_height": null,
            "min_width": null,
            "object_fit": null,
            "object_position": null,
            "order": null,
            "overflow": null,
            "overflow_x": null,
            "overflow_y": null,
            "padding": null,
            "right": null,
            "top": null,
            "visibility": null,
            "width": null
          }
        },
        "472774ddb5ee4806bd05ed38ad249856": {
          "model_module": "@jupyter-widgets/controls",
          "model_name": "DescriptionStyleModel",
          "model_module_version": "1.5.0",
          "state": {
            "_model_module": "@jupyter-widgets/controls",
            "_model_module_version": "1.5.0",
            "_model_name": "DescriptionStyleModel",
            "_view_count": null,
            "_view_module": "@jupyter-widgets/base",
            "_view_module_version": "1.2.0",
            "_view_name": "StyleView",
            "description_width": ""
          }
        },
        "de69e68ab8c443f19ceea186273ec9a4": {
          "model_module": "@jupyter-widgets/controls",
          "model_name": "HBoxModel",
          "model_module_version": "1.5.0",
          "state": {
            "_dom_classes": [],
            "_model_module": "@jupyter-widgets/controls",
            "_model_module_version": "1.5.0",
            "_model_name": "HBoxModel",
            "_view_count": null,
            "_view_module": "@jupyter-widgets/controls",
            "_view_module_version": "1.5.0",
            "_view_name": "HBoxView",
            "box_style": "",
            "children": [
              "IPY_MODEL_410bba75eeab4e26a0fe94d3bc9e628d",
              "IPY_MODEL_34ef72a7a62e407399c5b149482784e2",
              "IPY_MODEL_99983dcf1ca8421d8ae986d3fcae1cd8"
            ],
            "layout": "IPY_MODEL_fb1c66bd60774b299a4b258f6ceeab21"
          }
        },
        "410bba75eeab4e26a0fe94d3bc9e628d": {
          "model_module": "@jupyter-widgets/controls",
          "model_name": "HTMLModel",
          "model_module_version": "1.5.0",
          "state": {
            "_dom_classes": [],
            "_model_module": "@jupyter-widgets/controls",
            "_model_module_version": "1.5.0",
            "_model_name": "HTMLModel",
            "_view_count": null,
            "_view_module": "@jupyter-widgets/controls",
            "_view_module_version": "1.5.0",
            "_view_name": "HTMLView",
            "description": "",
            "description_tooltip": null,
            "layout": "IPY_MODEL_fc29fb5d493d4e70ba21b1ac1da202f5",
            "placeholder": "​",
            "style": "IPY_MODEL_df4882c1d16a49e2bb111af61ad46251",
            "value": "Inner:  99%"
          }
        },
        "34ef72a7a62e407399c5b149482784e2": {
          "model_module": "@jupyter-widgets/controls",
          "model_name": "FloatProgressModel",
          "model_module_version": "1.5.0",
          "state": {
            "_dom_classes": [],
            "_model_module": "@jupyter-widgets/controls",
            "_model_module_version": "1.5.0",
            "_model_name": "FloatProgressModel",
            "_view_count": null,
            "_view_module": "@jupyter-widgets/controls",
            "_view_module_version": "1.5.0",
            "_view_name": "ProgressView",
            "bar_style": "",
            "description": "",
            "description_tooltip": null,
            "layout": "IPY_MODEL_34e558b9609844df88cb4c274090bda4",
            "max": 101,
            "min": 0,
            "orientation": "horizontal",
            "style": "IPY_MODEL_031918238e464b6ea266ec246d4b21fc",
            "value": 101
          }
        },
        "99983dcf1ca8421d8ae986d3fcae1cd8": {
          "model_module": "@jupyter-widgets/controls",
          "model_name": "HTMLModel",
          "model_module_version": "1.5.0",
          "state": {
            "_dom_classes": [],
            "_model_module": "@jupyter-widgets/controls",
            "_model_module_version": "1.5.0",
            "_model_name": "HTMLModel",
            "_view_count": null,
            "_view_module": "@jupyter-widgets/controls",
            "_view_module_version": "1.5.0",
            "_view_name": "HTMLView",
            "description": "",
            "description_tooltip": null,
            "layout": "IPY_MODEL_0b23252990d54d80a7329846c9a86745",
            "placeholder": "​",
            "style": "IPY_MODEL_d1cf41f7624b432fa2e5322a11c3ddbc",
            "value": " 100/101 [00:09&lt;00:00, 14.32it/s]"
          }
        },
        "fb1c66bd60774b299a4b258f6ceeab21": {
          "model_module": "@jupyter-widgets/base",
          "model_name": "LayoutModel",
          "model_module_version": "1.2.0",
          "state": {
            "_model_module": "@jupyter-widgets/base",
            "_model_module_version": "1.2.0",
            "_model_name": "LayoutModel",
            "_view_count": null,
            "_view_module": "@jupyter-widgets/base",
            "_view_module_version": "1.2.0",
            "_view_name": "LayoutView",
            "align_content": null,
            "align_items": null,
            "align_self": null,
            "border": null,
            "bottom": null,
            "display": null,
            "flex": null,
            "flex_flow": null,
            "grid_area": null,
            "grid_auto_columns": null,
            "grid_auto_flow": null,
            "grid_auto_rows": null,
            "grid_column": null,
            "grid_gap": null,
            "grid_row": null,
            "grid_template_areas": null,
            "grid_template_columns": null,
            "grid_template_rows": null,
            "height": null,
            "justify_content": null,
            "justify_items": null,
            "left": null,
            "margin": null,
            "max_height": null,
            "max_width": null,
            "min_height": null,
            "min_width": null,
            "object_fit": null,
            "object_position": null,
            "order": null,
            "overflow": null,
            "overflow_x": null,
            "overflow_y": null,
            "padding": null,
            "right": null,
            "top": null,
            "visibility": "hidden",
            "width": null
          }
        },
        "fc29fb5d493d4e70ba21b1ac1da202f5": {
          "model_module": "@jupyter-widgets/base",
          "model_name": "LayoutModel",
          "model_module_version": "1.2.0",
          "state": {
            "_model_module": "@jupyter-widgets/base",
            "_model_module_version": "1.2.0",
            "_model_name": "LayoutModel",
            "_view_count": null,
            "_view_module": "@jupyter-widgets/base",
            "_view_module_version": "1.2.0",
            "_view_name": "LayoutView",
            "align_content": null,
            "align_items": null,
            "align_self": null,
            "border": null,
            "bottom": null,
            "display": null,
            "flex": null,
            "flex_flow": null,
            "grid_area": null,
            "grid_auto_columns": null,
            "grid_auto_flow": null,
            "grid_auto_rows": null,
            "grid_column": null,
            "grid_gap": null,
            "grid_row": null,
            "grid_template_areas": null,
            "grid_template_columns": null,
            "grid_template_rows": null,
            "height": null,
            "justify_content": null,
            "justify_items": null,
            "left": null,
            "margin": null,
            "max_height": null,
            "max_width": null,
            "min_height": null,
            "min_width": null,
            "object_fit": null,
            "object_position": null,
            "order": null,
            "overflow": null,
            "overflow_x": null,
            "overflow_y": null,
            "padding": null,
            "right": null,
            "top": null,
            "visibility": null,
            "width": null
          }
        },
        "df4882c1d16a49e2bb111af61ad46251": {
          "model_module": "@jupyter-widgets/controls",
          "model_name": "DescriptionStyleModel",
          "model_module_version": "1.5.0",
          "state": {
            "_model_module": "@jupyter-widgets/controls",
            "_model_module_version": "1.5.0",
            "_model_name": "DescriptionStyleModel",
            "_view_count": null,
            "_view_module": "@jupyter-widgets/base",
            "_view_module_version": "1.2.0",
            "_view_name": "StyleView",
            "description_width": ""
          }
        },
        "34e558b9609844df88cb4c274090bda4": {
          "model_module": "@jupyter-widgets/base",
          "model_name": "LayoutModel",
          "model_module_version": "1.2.0",
          "state": {
            "_model_module": "@jupyter-widgets/base",
            "_model_module_version": "1.2.0",
            "_model_name": "LayoutModel",
            "_view_count": null,
            "_view_module": "@jupyter-widgets/base",
            "_view_module_version": "1.2.0",
            "_view_name": "LayoutView",
            "align_content": null,
            "align_items": null,
            "align_self": null,
            "border": null,
            "bottom": null,
            "display": null,
            "flex": null,
            "flex_flow": null,
            "grid_area": null,
            "grid_auto_columns": null,
            "grid_auto_flow": null,
            "grid_auto_rows": null,
            "grid_column": null,
            "grid_gap": null,
            "grid_row": null,
            "grid_template_areas": null,
            "grid_template_columns": null,
            "grid_template_rows": null,
            "height": null,
            "justify_content": null,
            "justify_items": null,
            "left": null,
            "margin": null,
            "max_height": null,
            "max_width": null,
            "min_height": null,
            "min_width": null,
            "object_fit": null,
            "object_position": null,
            "order": null,
            "overflow": null,
            "overflow_x": null,
            "overflow_y": null,
            "padding": null,
            "right": null,
            "top": null,
            "visibility": null,
            "width": null
          }
        },
        "031918238e464b6ea266ec246d4b21fc": {
          "model_module": "@jupyter-widgets/controls",
          "model_name": "ProgressStyleModel",
          "model_module_version": "1.5.0",
          "state": {
            "_model_module": "@jupyter-widgets/controls",
            "_model_module_version": "1.5.0",
            "_model_name": "ProgressStyleModel",
            "_view_count": null,
            "_view_module": "@jupyter-widgets/base",
            "_view_module_version": "1.2.0",
            "_view_name": "StyleView",
            "bar_color": null,
            "description_width": ""
          }
        },
        "0b23252990d54d80a7329846c9a86745": {
          "model_module": "@jupyter-widgets/base",
          "model_name": "LayoutModel",
          "model_module_version": "1.2.0",
          "state": {
            "_model_module": "@jupyter-widgets/base",
            "_model_module_version": "1.2.0",
            "_model_name": "LayoutModel",
            "_view_count": null,
            "_view_module": "@jupyter-widgets/base",
            "_view_module_version": "1.2.0",
            "_view_name": "LayoutView",
            "align_content": null,
            "align_items": null,
            "align_self": null,
            "border": null,
            "bottom": null,
            "display": null,
            "flex": null,
            "flex_flow": null,
            "grid_area": null,
            "grid_auto_columns": null,
            "grid_auto_flow": null,
            "grid_auto_rows": null,
            "grid_column": null,
            "grid_gap": null,
            "grid_row": null,
            "grid_template_areas": null,
            "grid_template_columns": null,
            "grid_template_rows": null,
            "height": null,
            "justify_content": null,
            "justify_items": null,
            "left": null,
            "margin": null,
            "max_height": null,
            "max_width": null,
            "min_height": null,
            "min_width": null,
            "object_fit": null,
            "object_position": null,
            "order": null,
            "overflow": null,
            "overflow_x": null,
            "overflow_y": null,
            "padding": null,
            "right": null,
            "top": null,
            "visibility": null,
            "width": null
          }
        },
        "d1cf41f7624b432fa2e5322a11c3ddbc": {
          "model_module": "@jupyter-widgets/controls",
          "model_name": "DescriptionStyleModel",
          "model_module_version": "1.5.0",
          "state": {
            "_model_module": "@jupyter-widgets/controls",
            "_model_module_version": "1.5.0",
            "_model_name": "DescriptionStyleModel",
            "_view_count": null,
            "_view_module": "@jupyter-widgets/base",
            "_view_module_version": "1.2.0",
            "_view_name": "StyleView",
            "description_width": ""
          }
        },
        "855248510dc04533818adb2cb076f29a": {
          "model_module": "@jupyter-widgets/controls",
          "model_name": "HBoxModel",
          "model_module_version": "1.5.0",
          "state": {
            "_dom_classes": [],
            "_model_module": "@jupyter-widgets/controls",
            "_model_module_version": "1.5.0",
            "_model_name": "HBoxModel",
            "_view_count": null,
            "_view_module": "@jupyter-widgets/controls",
            "_view_module_version": "1.5.0",
            "_view_name": "HBoxView",
            "box_style": "",
            "children": [
              "IPY_MODEL_91562dcdd390496b80202661519b5445",
              "IPY_MODEL_df3fb18364b24b688f3b1f7628484cfc",
              "IPY_MODEL_a5c95d2aa90b49dc9966880bf7b0e6b4"
            ],
            "layout": "IPY_MODEL_aa790ffc0f594e3aa914455c46df316e"
          }
        },
        "91562dcdd390496b80202661519b5445": {
          "model_module": "@jupyter-widgets/controls",
          "model_name": "HTMLModel",
          "model_module_version": "1.5.0",
          "state": {
            "_dom_classes": [],
            "_model_module": "@jupyter-widgets/controls",
            "_model_module_version": "1.5.0",
            "_model_name": "HTMLModel",
            "_view_count": null,
            "_view_module": "@jupyter-widgets/controls",
            "_view_module_version": "1.5.0",
            "_view_name": "HTMLView",
            "description": "",
            "description_tooltip": null,
            "layout": "IPY_MODEL_2615c35fa23745f182b2e2a291124cdd",
            "placeholder": "​",
            "style": "IPY_MODEL_36c993cfe60c4ded908feaaef1fc860b",
            "value": "Inner: 100%"
          }
        },
        "df3fb18364b24b688f3b1f7628484cfc": {
          "model_module": "@jupyter-widgets/controls",
          "model_name": "FloatProgressModel",
          "model_module_version": "1.5.0",
          "state": {
            "_dom_classes": [],
            "_model_module": "@jupyter-widgets/controls",
            "_model_module_version": "1.5.0",
            "_model_name": "FloatProgressModel",
            "_view_count": null,
            "_view_module": "@jupyter-widgets/controls",
            "_view_module_version": "1.5.0",
            "_view_name": "ProgressView",
            "bar_style": "",
            "description": "",
            "description_tooltip": null,
            "layout": "IPY_MODEL_7e7117b56497424ca6fc63d632acfb54",
            "max": 101,
            "min": 0,
            "orientation": "horizontal",
            "style": "IPY_MODEL_e3cb423dc86d460baaa854189ea322a8",
            "value": 101
          }
        },
        "a5c95d2aa90b49dc9966880bf7b0e6b4": {
          "model_module": "@jupyter-widgets/controls",
          "model_name": "HTMLModel",
          "model_module_version": "1.5.0",
          "state": {
            "_dom_classes": [],
            "_model_module": "@jupyter-widgets/controls",
            "_model_module_version": "1.5.0",
            "_model_name": "HTMLModel",
            "_view_count": null,
            "_view_module": "@jupyter-widgets/controls",
            "_view_module_version": "1.5.0",
            "_view_name": "HTMLView",
            "description": "",
            "description_tooltip": null,
            "layout": "IPY_MODEL_ac0dceef7bca411b87d53eeccda42b13",
            "placeholder": "​",
            "style": "IPY_MODEL_e3bd084acb6141ccb37700ba867b76fc",
            "value": " 101/101 [00:07&lt;00:00, 11.95it/s]"
          }
        },
        "aa790ffc0f594e3aa914455c46df316e": {
          "model_module": "@jupyter-widgets/base",
          "model_name": "LayoutModel",
          "model_module_version": "1.2.0",
          "state": {
            "_model_module": "@jupyter-widgets/base",
            "_model_module_version": "1.2.0",
            "_model_name": "LayoutModel",
            "_view_count": null,
            "_view_module": "@jupyter-widgets/base",
            "_view_module_version": "1.2.0",
            "_view_name": "LayoutView",
            "align_content": null,
            "align_items": null,
            "align_self": null,
            "border": null,
            "bottom": null,
            "display": null,
            "flex": null,
            "flex_flow": null,
            "grid_area": null,
            "grid_auto_columns": null,
            "grid_auto_flow": null,
            "grid_auto_rows": null,
            "grid_column": null,
            "grid_gap": null,
            "grid_row": null,
            "grid_template_areas": null,
            "grid_template_columns": null,
            "grid_template_rows": null,
            "height": null,
            "justify_content": null,
            "justify_items": null,
            "left": null,
            "margin": null,
            "max_height": null,
            "max_width": null,
            "min_height": null,
            "min_width": null,
            "object_fit": null,
            "object_position": null,
            "order": null,
            "overflow": null,
            "overflow_x": null,
            "overflow_y": null,
            "padding": null,
            "right": null,
            "top": null,
            "visibility": "hidden",
            "width": null
          }
        },
        "2615c35fa23745f182b2e2a291124cdd": {
          "model_module": "@jupyter-widgets/base",
          "model_name": "LayoutModel",
          "model_module_version": "1.2.0",
          "state": {
            "_model_module": "@jupyter-widgets/base",
            "_model_module_version": "1.2.0",
            "_model_name": "LayoutModel",
            "_view_count": null,
            "_view_module": "@jupyter-widgets/base",
            "_view_module_version": "1.2.0",
            "_view_name": "LayoutView",
            "align_content": null,
            "align_items": null,
            "align_self": null,
            "border": null,
            "bottom": null,
            "display": null,
            "flex": null,
            "flex_flow": null,
            "grid_area": null,
            "grid_auto_columns": null,
            "grid_auto_flow": null,
            "grid_auto_rows": null,
            "grid_column": null,
            "grid_gap": null,
            "grid_row": null,
            "grid_template_areas": null,
            "grid_template_columns": null,
            "grid_template_rows": null,
            "height": null,
            "justify_content": null,
            "justify_items": null,
            "left": null,
            "margin": null,
            "max_height": null,
            "max_width": null,
            "min_height": null,
            "min_width": null,
            "object_fit": null,
            "object_position": null,
            "order": null,
            "overflow": null,
            "overflow_x": null,
            "overflow_y": null,
            "padding": null,
            "right": null,
            "top": null,
            "visibility": null,
            "width": null
          }
        },
        "36c993cfe60c4ded908feaaef1fc860b": {
          "model_module": "@jupyter-widgets/controls",
          "model_name": "DescriptionStyleModel",
          "model_module_version": "1.5.0",
          "state": {
            "_model_module": "@jupyter-widgets/controls",
            "_model_module_version": "1.5.0",
            "_model_name": "DescriptionStyleModel",
            "_view_count": null,
            "_view_module": "@jupyter-widgets/base",
            "_view_module_version": "1.2.0",
            "_view_name": "StyleView",
            "description_width": ""
          }
        },
        "7e7117b56497424ca6fc63d632acfb54": {
          "model_module": "@jupyter-widgets/base",
          "model_name": "LayoutModel",
          "model_module_version": "1.2.0",
          "state": {
            "_model_module": "@jupyter-widgets/base",
            "_model_module_version": "1.2.0",
            "_model_name": "LayoutModel",
            "_view_count": null,
            "_view_module": "@jupyter-widgets/base",
            "_view_module_version": "1.2.0",
            "_view_name": "LayoutView",
            "align_content": null,
            "align_items": null,
            "align_self": null,
            "border": null,
            "bottom": null,
            "display": null,
            "flex": null,
            "flex_flow": null,
            "grid_area": null,
            "grid_auto_columns": null,
            "grid_auto_flow": null,
            "grid_auto_rows": null,
            "grid_column": null,
            "grid_gap": null,
            "grid_row": null,
            "grid_template_areas": null,
            "grid_template_columns": null,
            "grid_template_rows": null,
            "height": null,
            "justify_content": null,
            "justify_items": null,
            "left": null,
            "margin": null,
            "max_height": null,
            "max_width": null,
            "min_height": null,
            "min_width": null,
            "object_fit": null,
            "object_position": null,
            "order": null,
            "overflow": null,
            "overflow_x": null,
            "overflow_y": null,
            "padding": null,
            "right": null,
            "top": null,
            "visibility": null,
            "width": null
          }
        },
        "e3cb423dc86d460baaa854189ea322a8": {
          "model_module": "@jupyter-widgets/controls",
          "model_name": "ProgressStyleModel",
          "model_module_version": "1.5.0",
          "state": {
            "_model_module": "@jupyter-widgets/controls",
            "_model_module_version": "1.5.0",
            "_model_name": "ProgressStyleModel",
            "_view_count": null,
            "_view_module": "@jupyter-widgets/base",
            "_view_module_version": "1.2.0",
            "_view_name": "StyleView",
            "bar_color": null,
            "description_width": ""
          }
        },
        "ac0dceef7bca411b87d53eeccda42b13": {
          "model_module": "@jupyter-widgets/base",
          "model_name": "LayoutModel",
          "model_module_version": "1.2.0",
          "state": {
            "_model_module": "@jupyter-widgets/base",
            "_model_module_version": "1.2.0",
            "_model_name": "LayoutModel",
            "_view_count": null,
            "_view_module": "@jupyter-widgets/base",
            "_view_module_version": "1.2.0",
            "_view_name": "LayoutView",
            "align_content": null,
            "align_items": null,
            "align_self": null,
            "border": null,
            "bottom": null,
            "display": null,
            "flex": null,
            "flex_flow": null,
            "grid_area": null,
            "grid_auto_columns": null,
            "grid_auto_flow": null,
            "grid_auto_rows": null,
            "grid_column": null,
            "grid_gap": null,
            "grid_row": null,
            "grid_template_areas": null,
            "grid_template_columns": null,
            "grid_template_rows": null,
            "height": null,
            "justify_content": null,
            "justify_items": null,
            "left": null,
            "margin": null,
            "max_height": null,
            "max_width": null,
            "min_height": null,
            "min_width": null,
            "object_fit": null,
            "object_position": null,
            "order": null,
            "overflow": null,
            "overflow_x": null,
            "overflow_y": null,
            "padding": null,
            "right": null,
            "top": null,
            "visibility": null,
            "width": null
          }
        },
        "e3bd084acb6141ccb37700ba867b76fc": {
          "model_module": "@jupyter-widgets/controls",
          "model_name": "DescriptionStyleModel",
          "model_module_version": "1.5.0",
          "state": {
            "_model_module": "@jupyter-widgets/controls",
            "_model_module_version": "1.5.0",
            "_model_name": "DescriptionStyleModel",
            "_view_count": null,
            "_view_module": "@jupyter-widgets/base",
            "_view_module_version": "1.2.0",
            "_view_name": "StyleView",
            "description_width": ""
          }
        },
        "dfbe24a5ef3e4d4487e42ac1e7e6942e": {
          "model_module": "@jupyter-widgets/controls",
          "model_name": "HBoxModel",
          "model_module_version": "1.5.0",
          "state": {
            "_dom_classes": [],
            "_model_module": "@jupyter-widgets/controls",
            "_model_module_version": "1.5.0",
            "_model_name": "HBoxModel",
            "_view_count": null,
            "_view_module": "@jupyter-widgets/controls",
            "_view_module_version": "1.5.0",
            "_view_name": "HBoxView",
            "box_style": "",
            "children": [
              "IPY_MODEL_a06452b774a44a9fae87b123d9a4f181",
              "IPY_MODEL_2c98d05bb9de4e2ba0961ea7ae8ebb39",
              "IPY_MODEL_5bdad1292a0e4f3e8b57069e40e932e7"
            ],
            "layout": "IPY_MODEL_e6da801c7f98415fb8b4f342becf86b5"
          }
        },
        "a06452b774a44a9fae87b123d9a4f181": {
          "model_module": "@jupyter-widgets/controls",
          "model_name": "HTMLModel",
          "model_module_version": "1.5.0",
          "state": {
            "_dom_classes": [],
            "_model_module": "@jupyter-widgets/controls",
            "_model_module_version": "1.5.0",
            "_model_name": "HTMLModel",
            "_view_count": null,
            "_view_module": "@jupyter-widgets/controls",
            "_view_module_version": "1.5.0",
            "_view_name": "HTMLView",
            "description": "",
            "description_tooltip": null,
            "layout": "IPY_MODEL_b6e7dee66e9c435b97a5e85fdc40a170",
            "placeholder": "​",
            "style": "IPY_MODEL_8bcf31ad203844898026749e564bfe77",
            "value": "Inner:  99%"
          }
        },
        "2c98d05bb9de4e2ba0961ea7ae8ebb39": {
          "model_module": "@jupyter-widgets/controls",
          "model_name": "FloatProgressModel",
          "model_module_version": "1.5.0",
          "state": {
            "_dom_classes": [],
            "_model_module": "@jupyter-widgets/controls",
            "_model_module_version": "1.5.0",
            "_model_name": "FloatProgressModel",
            "_view_count": null,
            "_view_module": "@jupyter-widgets/controls",
            "_view_module_version": "1.5.0",
            "_view_name": "ProgressView",
            "bar_style": "",
            "description": "",
            "description_tooltip": null,
            "layout": "IPY_MODEL_1630e35f5bf348bdac51bbc124411c8f",
            "max": 101,
            "min": 0,
            "orientation": "horizontal",
            "style": "IPY_MODEL_6496095924a343dcbcfecb9c64287b6c",
            "value": 101
          }
        },
        "5bdad1292a0e4f3e8b57069e40e932e7": {
          "model_module": "@jupyter-widgets/controls",
          "model_name": "HTMLModel",
          "model_module_version": "1.5.0",
          "state": {
            "_dom_classes": [],
            "_model_module": "@jupyter-widgets/controls",
            "_model_module_version": "1.5.0",
            "_model_name": "HTMLModel",
            "_view_count": null,
            "_view_module": "@jupyter-widgets/controls",
            "_view_module_version": "1.5.0",
            "_view_name": "HTMLView",
            "description": "",
            "description_tooltip": null,
            "layout": "IPY_MODEL_a88e234791a64339b985a351f75504c0",
            "placeholder": "​",
            "style": "IPY_MODEL_5b9a6ed26932455f8851c30ec745a1a5",
            "value": " 100/101 [00:08&lt;00:00, 14.46it/s]"
          }
        },
        "e6da801c7f98415fb8b4f342becf86b5": {
          "model_module": "@jupyter-widgets/base",
          "model_name": "LayoutModel",
          "model_module_version": "1.2.0",
          "state": {
            "_model_module": "@jupyter-widgets/base",
            "_model_module_version": "1.2.0",
            "_model_name": "LayoutModel",
            "_view_count": null,
            "_view_module": "@jupyter-widgets/base",
            "_view_module_version": "1.2.0",
            "_view_name": "LayoutView",
            "align_content": null,
            "align_items": null,
            "align_self": null,
            "border": null,
            "bottom": null,
            "display": null,
            "flex": null,
            "flex_flow": null,
            "grid_area": null,
            "grid_auto_columns": null,
            "grid_auto_flow": null,
            "grid_auto_rows": null,
            "grid_column": null,
            "grid_gap": null,
            "grid_row": null,
            "grid_template_areas": null,
            "grid_template_columns": null,
            "grid_template_rows": null,
            "height": null,
            "justify_content": null,
            "justify_items": null,
            "left": null,
            "margin": null,
            "max_height": null,
            "max_width": null,
            "min_height": null,
            "min_width": null,
            "object_fit": null,
            "object_position": null,
            "order": null,
            "overflow": null,
            "overflow_x": null,
            "overflow_y": null,
            "padding": null,
            "right": null,
            "top": null,
            "visibility": "hidden",
            "width": null
          }
        },
        "b6e7dee66e9c435b97a5e85fdc40a170": {
          "model_module": "@jupyter-widgets/base",
          "model_name": "LayoutModel",
          "model_module_version": "1.2.0",
          "state": {
            "_model_module": "@jupyter-widgets/base",
            "_model_module_version": "1.2.0",
            "_model_name": "LayoutModel",
            "_view_count": null,
            "_view_module": "@jupyter-widgets/base",
            "_view_module_version": "1.2.0",
            "_view_name": "LayoutView",
            "align_content": null,
            "align_items": null,
            "align_self": null,
            "border": null,
            "bottom": null,
            "display": null,
            "flex": null,
            "flex_flow": null,
            "grid_area": null,
            "grid_auto_columns": null,
            "grid_auto_flow": null,
            "grid_auto_rows": null,
            "grid_column": null,
            "grid_gap": null,
            "grid_row": null,
            "grid_template_areas": null,
            "grid_template_columns": null,
            "grid_template_rows": null,
            "height": null,
            "justify_content": null,
            "justify_items": null,
            "left": null,
            "margin": null,
            "max_height": null,
            "max_width": null,
            "min_height": null,
            "min_width": null,
            "object_fit": null,
            "object_position": null,
            "order": null,
            "overflow": null,
            "overflow_x": null,
            "overflow_y": null,
            "padding": null,
            "right": null,
            "top": null,
            "visibility": null,
            "width": null
          }
        },
        "8bcf31ad203844898026749e564bfe77": {
          "model_module": "@jupyter-widgets/controls",
          "model_name": "DescriptionStyleModel",
          "model_module_version": "1.5.0",
          "state": {
            "_model_module": "@jupyter-widgets/controls",
            "_model_module_version": "1.5.0",
            "_model_name": "DescriptionStyleModel",
            "_view_count": null,
            "_view_module": "@jupyter-widgets/base",
            "_view_module_version": "1.2.0",
            "_view_name": "StyleView",
            "description_width": ""
          }
        },
        "1630e35f5bf348bdac51bbc124411c8f": {
          "model_module": "@jupyter-widgets/base",
          "model_name": "LayoutModel",
          "model_module_version": "1.2.0",
          "state": {
            "_model_module": "@jupyter-widgets/base",
            "_model_module_version": "1.2.0",
            "_model_name": "LayoutModel",
            "_view_count": null,
            "_view_module": "@jupyter-widgets/base",
            "_view_module_version": "1.2.0",
            "_view_name": "LayoutView",
            "align_content": null,
            "align_items": null,
            "align_self": null,
            "border": null,
            "bottom": null,
            "display": null,
            "flex": null,
            "flex_flow": null,
            "grid_area": null,
            "grid_auto_columns": null,
            "grid_auto_flow": null,
            "grid_auto_rows": null,
            "grid_column": null,
            "grid_gap": null,
            "grid_row": null,
            "grid_template_areas": null,
            "grid_template_columns": null,
            "grid_template_rows": null,
            "height": null,
            "justify_content": null,
            "justify_items": null,
            "left": null,
            "margin": null,
            "max_height": null,
            "max_width": null,
            "min_height": null,
            "min_width": null,
            "object_fit": null,
            "object_position": null,
            "order": null,
            "overflow": null,
            "overflow_x": null,
            "overflow_y": null,
            "padding": null,
            "right": null,
            "top": null,
            "visibility": null,
            "width": null
          }
        },
        "6496095924a343dcbcfecb9c64287b6c": {
          "model_module": "@jupyter-widgets/controls",
          "model_name": "ProgressStyleModel",
          "model_module_version": "1.5.0",
          "state": {
            "_model_module": "@jupyter-widgets/controls",
            "_model_module_version": "1.5.0",
            "_model_name": "ProgressStyleModel",
            "_view_count": null,
            "_view_module": "@jupyter-widgets/base",
            "_view_module_version": "1.2.0",
            "_view_name": "StyleView",
            "bar_color": null,
            "description_width": ""
          }
        },
        "a88e234791a64339b985a351f75504c0": {
          "model_module": "@jupyter-widgets/base",
          "model_name": "LayoutModel",
          "model_module_version": "1.2.0",
          "state": {
            "_model_module": "@jupyter-widgets/base",
            "_model_module_version": "1.2.0",
            "_model_name": "LayoutModel",
            "_view_count": null,
            "_view_module": "@jupyter-widgets/base",
            "_view_module_version": "1.2.0",
            "_view_name": "LayoutView",
            "align_content": null,
            "align_items": null,
            "align_self": null,
            "border": null,
            "bottom": null,
            "display": null,
            "flex": null,
            "flex_flow": null,
            "grid_area": null,
            "grid_auto_columns": null,
            "grid_auto_flow": null,
            "grid_auto_rows": null,
            "grid_column": null,
            "grid_gap": null,
            "grid_row": null,
            "grid_template_areas": null,
            "grid_template_columns": null,
            "grid_template_rows": null,
            "height": null,
            "justify_content": null,
            "justify_items": null,
            "left": null,
            "margin": null,
            "max_height": null,
            "max_width": null,
            "min_height": null,
            "min_width": null,
            "object_fit": null,
            "object_position": null,
            "order": null,
            "overflow": null,
            "overflow_x": null,
            "overflow_y": null,
            "padding": null,
            "right": null,
            "top": null,
            "visibility": null,
            "width": null
          }
        },
        "5b9a6ed26932455f8851c30ec745a1a5": {
          "model_module": "@jupyter-widgets/controls",
          "model_name": "DescriptionStyleModel",
          "model_module_version": "1.5.0",
          "state": {
            "_model_module": "@jupyter-widgets/controls",
            "_model_module_version": "1.5.0",
            "_model_name": "DescriptionStyleModel",
            "_view_count": null,
            "_view_module": "@jupyter-widgets/base",
            "_view_module_version": "1.2.0",
            "_view_name": "StyleView",
            "description_width": ""
          }
        },
        "09188bf7dcf4418ea2d18f4eb7cda07f": {
          "model_module": "@jupyter-widgets/controls",
          "model_name": "HBoxModel",
          "model_module_version": "1.5.0",
          "state": {
            "_dom_classes": [],
            "_model_module": "@jupyter-widgets/controls",
            "_model_module_version": "1.5.0",
            "_model_name": "HBoxModel",
            "_view_count": null,
            "_view_module": "@jupyter-widgets/controls",
            "_view_module_version": "1.5.0",
            "_view_name": "HBoxView",
            "box_style": "",
            "children": [
              "IPY_MODEL_c0a95b2ea6684381b6987e7a49bc7aac",
              "IPY_MODEL_b3fe2124c3aa457087ffa2c15a5658d7",
              "IPY_MODEL_de420e67a2734392b72397b2f5a8cc30"
            ],
            "layout": "IPY_MODEL_7010c861c91a437ca7a748d4c0b60e1f"
          }
        },
        "c0a95b2ea6684381b6987e7a49bc7aac": {
          "model_module": "@jupyter-widgets/controls",
          "model_name": "HTMLModel",
          "model_module_version": "1.5.0",
          "state": {
            "_dom_classes": [],
            "_model_module": "@jupyter-widgets/controls",
            "_model_module_version": "1.5.0",
            "_model_name": "HTMLModel",
            "_view_count": null,
            "_view_module": "@jupyter-widgets/controls",
            "_view_module_version": "1.5.0",
            "_view_name": "HTMLView",
            "description": "",
            "description_tooltip": null,
            "layout": "IPY_MODEL_13fedb077d684998b462bc744057ffd1",
            "placeholder": "​",
            "style": "IPY_MODEL_b5317c126047453cadfb81063abab22c",
            "value": "Logistic Regression: 100%"
          }
        },
        "b3fe2124c3aa457087ffa2c15a5658d7": {
          "model_module": "@jupyter-widgets/controls",
          "model_name": "FloatProgressModel",
          "model_module_version": "1.5.0",
          "state": {
            "_dom_classes": [],
            "_model_module": "@jupyter-widgets/controls",
            "_model_module_version": "1.5.0",
            "_model_name": "FloatProgressModel",
            "_view_count": null,
            "_view_module": "@jupyter-widgets/controls",
            "_view_module_version": "1.5.0",
            "_view_name": "ProgressView",
            "bar_style": "success",
            "description": "",
            "description_tooltip": null,
            "layout": "IPY_MODEL_56628fe23f7748b4b36ceecf92c18b5f",
            "max": 100,
            "min": 0,
            "orientation": "horizontal",
            "style": "IPY_MODEL_5110f2110ef4495da167c6568cc1aad3",
            "value": 100
          }
        },
        "de420e67a2734392b72397b2f5a8cc30": {
          "model_module": "@jupyter-widgets/controls",
          "model_name": "HTMLModel",
          "model_module_version": "1.5.0",
          "state": {
            "_dom_classes": [],
            "_model_module": "@jupyter-widgets/controls",
            "_model_module_version": "1.5.0",
            "_model_name": "HTMLModel",
            "_view_count": null,
            "_view_module": "@jupyter-widgets/controls",
            "_view_module_version": "1.5.0",
            "_view_name": "HTMLView",
            "description": "",
            "description_tooltip": null,
            "layout": "IPY_MODEL_32aae1fad92f4f879e8efe69b9591f45",
            "placeholder": "​",
            "style": "IPY_MODEL_379d5794ee8145a2b076620b9cde4dcc",
            "value": " 100/100 [00:36&lt;00:00,  2.99it/s]"
          }
        },
        "7010c861c91a437ca7a748d4c0b60e1f": {
          "model_module": "@jupyter-widgets/base",
          "model_name": "LayoutModel",
          "model_module_version": "1.2.0",
          "state": {
            "_model_module": "@jupyter-widgets/base",
            "_model_module_version": "1.2.0",
            "_model_name": "LayoutModel",
            "_view_count": null,
            "_view_module": "@jupyter-widgets/base",
            "_view_module_version": "1.2.0",
            "_view_name": "LayoutView",
            "align_content": null,
            "align_items": null,
            "align_self": null,
            "border": null,
            "bottom": null,
            "display": null,
            "flex": null,
            "flex_flow": null,
            "grid_area": null,
            "grid_auto_columns": null,
            "grid_auto_flow": null,
            "grid_auto_rows": null,
            "grid_column": null,
            "grid_gap": null,
            "grid_row": null,
            "grid_template_areas": null,
            "grid_template_columns": null,
            "grid_template_rows": null,
            "height": null,
            "justify_content": null,
            "justify_items": null,
            "left": null,
            "margin": null,
            "max_height": null,
            "max_width": null,
            "min_height": null,
            "min_width": null,
            "object_fit": null,
            "object_position": null,
            "order": null,
            "overflow": null,
            "overflow_x": null,
            "overflow_y": null,
            "padding": null,
            "right": null,
            "top": null,
            "visibility": null,
            "width": null
          }
        },
        "13fedb077d684998b462bc744057ffd1": {
          "model_module": "@jupyter-widgets/base",
          "model_name": "LayoutModel",
          "model_module_version": "1.2.0",
          "state": {
            "_model_module": "@jupyter-widgets/base",
            "_model_module_version": "1.2.0",
            "_model_name": "LayoutModel",
            "_view_count": null,
            "_view_module": "@jupyter-widgets/base",
            "_view_module_version": "1.2.0",
            "_view_name": "LayoutView",
            "align_content": null,
            "align_items": null,
            "align_self": null,
            "border": null,
            "bottom": null,
            "display": null,
            "flex": null,
            "flex_flow": null,
            "grid_area": null,
            "grid_auto_columns": null,
            "grid_auto_flow": null,
            "grid_auto_rows": null,
            "grid_column": null,
            "grid_gap": null,
            "grid_row": null,
            "grid_template_areas": null,
            "grid_template_columns": null,
            "grid_template_rows": null,
            "height": null,
            "justify_content": null,
            "justify_items": null,
            "left": null,
            "margin": null,
            "max_height": null,
            "max_width": null,
            "min_height": null,
            "min_width": null,
            "object_fit": null,
            "object_position": null,
            "order": null,
            "overflow": null,
            "overflow_x": null,
            "overflow_y": null,
            "padding": null,
            "right": null,
            "top": null,
            "visibility": null,
            "width": null
          }
        },
        "b5317c126047453cadfb81063abab22c": {
          "model_module": "@jupyter-widgets/controls",
          "model_name": "DescriptionStyleModel",
          "model_module_version": "1.5.0",
          "state": {
            "_model_module": "@jupyter-widgets/controls",
            "_model_module_version": "1.5.0",
            "_model_name": "DescriptionStyleModel",
            "_view_count": null,
            "_view_module": "@jupyter-widgets/base",
            "_view_module_version": "1.2.0",
            "_view_name": "StyleView",
            "description_width": ""
          }
        },
        "56628fe23f7748b4b36ceecf92c18b5f": {
          "model_module": "@jupyter-widgets/base",
          "model_name": "LayoutModel",
          "model_module_version": "1.2.0",
          "state": {
            "_model_module": "@jupyter-widgets/base",
            "_model_module_version": "1.2.0",
            "_model_name": "LayoutModel",
            "_view_count": null,
            "_view_module": "@jupyter-widgets/base",
            "_view_module_version": "1.2.0",
            "_view_name": "LayoutView",
            "align_content": null,
            "align_items": null,
            "align_self": null,
            "border": null,
            "bottom": null,
            "display": null,
            "flex": null,
            "flex_flow": null,
            "grid_area": null,
            "grid_auto_columns": null,
            "grid_auto_flow": null,
            "grid_auto_rows": null,
            "grid_column": null,
            "grid_gap": null,
            "grid_row": null,
            "grid_template_areas": null,
            "grid_template_columns": null,
            "grid_template_rows": null,
            "height": null,
            "justify_content": null,
            "justify_items": null,
            "left": null,
            "margin": null,
            "max_height": null,
            "max_width": null,
            "min_height": null,
            "min_width": null,
            "object_fit": null,
            "object_position": null,
            "order": null,
            "overflow": null,
            "overflow_x": null,
            "overflow_y": null,
            "padding": null,
            "right": null,
            "top": null,
            "visibility": null,
            "width": null
          }
        },
        "5110f2110ef4495da167c6568cc1aad3": {
          "model_module": "@jupyter-widgets/controls",
          "model_name": "ProgressStyleModel",
          "model_module_version": "1.5.0",
          "state": {
            "_model_module": "@jupyter-widgets/controls",
            "_model_module_version": "1.5.0",
            "_model_name": "ProgressStyleModel",
            "_view_count": null,
            "_view_module": "@jupyter-widgets/base",
            "_view_module_version": "1.2.0",
            "_view_name": "StyleView",
            "bar_color": null,
            "description_width": ""
          }
        },
        "32aae1fad92f4f879e8efe69b9591f45": {
          "model_module": "@jupyter-widgets/base",
          "model_name": "LayoutModel",
          "model_module_version": "1.2.0",
          "state": {
            "_model_module": "@jupyter-widgets/base",
            "_model_module_version": "1.2.0",
            "_model_name": "LayoutModel",
            "_view_count": null,
            "_view_module": "@jupyter-widgets/base",
            "_view_module_version": "1.2.0",
            "_view_name": "LayoutView",
            "align_content": null,
            "align_items": null,
            "align_self": null,
            "border": null,
            "bottom": null,
            "display": null,
            "flex": null,
            "flex_flow": null,
            "grid_area": null,
            "grid_auto_columns": null,
            "grid_auto_flow": null,
            "grid_auto_rows": null,
            "grid_column": null,
            "grid_gap": null,
            "grid_row": null,
            "grid_template_areas": null,
            "grid_template_columns": null,
            "grid_template_rows": null,
            "height": null,
            "justify_content": null,
            "justify_items": null,
            "left": null,
            "margin": null,
            "max_height": null,
            "max_width": null,
            "min_height": null,
            "min_width": null,
            "object_fit": null,
            "object_position": null,
            "order": null,
            "overflow": null,
            "overflow_x": null,
            "overflow_y": null,
            "padding": null,
            "right": null,
            "top": null,
            "visibility": null,
            "width": null
          }
        },
        "379d5794ee8145a2b076620b9cde4dcc": {
          "model_module": "@jupyter-widgets/controls",
          "model_name": "DescriptionStyleModel",
          "model_module_version": "1.5.0",
          "state": {
            "_model_module": "@jupyter-widgets/controls",
            "_model_module_version": "1.5.0",
            "_model_name": "DescriptionStyleModel",
            "_view_count": null,
            "_view_module": "@jupyter-widgets/base",
            "_view_module_version": "1.2.0",
            "_view_name": "StyleView",
            "description_width": ""
          }
        }
      }
    }
  },
  "nbformat": 4,
  "nbformat_minor": 0
}